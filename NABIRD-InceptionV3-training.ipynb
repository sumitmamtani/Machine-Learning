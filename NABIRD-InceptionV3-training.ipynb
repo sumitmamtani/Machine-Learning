{
 "cells": [
  {
   "cell_type": "code",
   "execution_count": 9,
   "metadata": {},
   "outputs": [],
   "source": [
    "import pickle"
   ]
  },
  {
   "cell_type": "code",
   "execution_count": 10,
   "metadata": {},
   "outputs": [
    {
     "name": "stdout",
     "output_type": "stream",
     "text": [
      "Wed May 11 01:23:22 2022       \r\n",
      "+-----------------------------------------------------------------------------+\r\n",
      "| NVIDIA-SMI 470.57.02    Driver Version: 470.57.02    CUDA Version: 11.4     |\r\n",
      "|-------------------------------+----------------------+----------------------+\r\n",
      "| GPU  Name        Persistence-M| Bus-Id        Disp.A | Volatile Uncorr. ECC |\r\n",
      "| Fan  Temp  Perf  Pwr:Usage/Cap|         Memory-Usage | GPU-Util  Compute M. |\r\n",
      "|                               |                      |               MIG M. |\r\n",
      "|===============================+======================+======================|\r\n",
      "|   0  Quadro RTX 8000     On   | 00000000:06:00.0 Off |                    0 |\r\n",
      "| N/A   32C    P8    14W / 250W |      0MiB / 45556MiB |      0%      Default |\r\n",
      "|                               |                      |                  N/A |\r\n",
      "+-------------------------------+----------------------+----------------------+\r\n",
      "                                                                               \r\n",
      "+-----------------------------------------------------------------------------+\r\n",
      "| Processes:                                                                  |\r\n",
      "|  GPU   GI   CI        PID   Type   Process name                  GPU Memory |\r\n",
      "|        ID   ID                                                   Usage      |\r\n",
      "|=============================================================================|\r\n",
      "|  No running processes found                                                 |\r\n",
      "+-----------------------------------------------------------------------------+\r\n"
     ]
    }
   ],
   "source": [
    "!nvidia-smi"
   ]
  },
  {
   "cell_type": "code",
   "execution_count": 11,
   "metadata": {},
   "outputs": [],
   "source": [
    "file = open(\"/scratch/sm9669/nabird pickle/nabird/train_1000.pkl\",'rb')\n",
    "object_file = pickle.load(file)"
   ]
  },
  {
   "cell_type": "code",
   "execution_count": 12,
   "metadata": {},
   "outputs": [
    {
     "name": "stdout",
     "output_type": "stream",
     "text": [
      "(651, 1024, 3)\n"
     ]
    }
   ],
   "source": [
    "print(object_file['0619/0ba9dea32952498baff7a85078804138.jpg'].shape)"
   ]
  },
  {
   "cell_type": "code",
   "execution_count": 13,
   "metadata": {},
   "outputs": [
    {
     "name": "stderr",
     "output_type": "stream",
     "text": [
      "100%|██████████| 23/23 [00:41<00:00,  1.82s/it]\n"
     ]
    }
   ],
   "source": [
    "from tqdm import tqdm\n",
    "path_to_image = {}\n",
    "for i in tqdm(range(0, 23)):\n",
    "    path = '/scratch/sm9669/nabird pickle/nabird/train_'+str(i*1000)+'.pkl'\n",
    "    file = open(path,'rb')\n",
    "    sub_data = pickle.load(file)\n",
    "    path_to_image.update(sub_data)\n",
    "   "
   ]
  },
  {
   "cell_type": "code",
   "execution_count": 14,
   "metadata": {
    "scrolled": false
   },
   "outputs": [
    {
     "name": "stdout",
     "output_type": "stream",
     "text": [
      "Defaulting to user installation because normal site-packages is not writeable\n",
      "Collecting opencv-python\n",
      "  Downloading opencv_python-4.5.5.64-cp36-abi3-manylinux_2_17_x86_64.manylinux2014_x86_64.whl (60.5 MB)\n",
      "\u001b[K     |████████████████████████████████| 60.5 MB 32.4 MB/s eta 0:00:01    |▍                               | 788 kB 32.4 MB/s eta 0:00:02        | 16.5 MB 32.4 MB/s eta 0:00:02[K     |██████████████████▉             | 35.5 MB 32.4 MB/s eta 0:00:01�█████████████████████████▋| 59.7 MB 32.4 MB/s eta 0:00:01\n",
      "\u001b[?25hRequirement already satisfied: numpy>=1.17.3; python_version >= \"3.8\" in /share/apps/python/3.8.6/intel/lib/python3.8/site-packages/numpy-1.19.2-py3.8-linux-x86_64.egg (from opencv-python) (1.19.2)\n",
      "Installing collected packages: opencv-python\n",
      "Successfully installed opencv-python-4.5.5.64\n",
      "\u001b[33mWARNING: You are using pip version 20.2.3; however, version 22.0.4 is available.\n",
      "You should consider upgrading via the '/share/apps/python/3.8.6/intel/bin/python -m pip install --upgrade pip' command.\u001b[0m\n"
     ]
    }
   ],
   "source": [
    "!pip install opencv-python"
   ]
  },
  {
   "cell_type": "code",
   "execution_count": 14,
   "metadata": {},
   "outputs": [],
   "source": [
    "import torch.utils.data as data\n",
    "from PIL import Image\n",
    "import os\n",
    "import json\n",
    "from torchvision import transforms\n",
    "import random\n",
    "import numpy as np\n",
    "import json\n",
    "import torch\n",
    "import pickle\n",
    "from tqdm import tqdm\n",
    "import cv2\n",
    "\n",
    "def default_loader(path):\n",
    "    image= path_to_image[path]\n",
    "    img = cv2.cvtColor(image, cv2.COLOR_BGR2RGB)\n",
    "    im_pil = Image.fromarray(img)\n",
    "#     return Image.open(path).convert('RGB')\n",
    "    return im_pil\n",
    "\n",
    "\n",
    "class NABirds(data.Dataset):\n",
    "    def __init__(self, root, meta_data, split_name, im_size_resize, im_size_crop, is_train=True, meta_type='ebird_meta'):\n",
    "\n",
    "        # load annotations\n",
    "        print('Loading annotations from: ' + os.path.basename(meta_data))\n",
    "        with open(meta_data) as fp:\n",
    "            da = json.load(fp)\n",
    "\n",
    "        # only choose images that are available - ie some missing from download\n",
    "        # also select the split of interest\n",
    "        da = [dd for dd in da[split_name] if dd['valid_image']]\n",
    "\n",
    "        # set up the filenames and annotations\n",
    "        self.imgs = [dd['im_path'] for dd in da]\n",
    "        self.classes = [dd['class_id'] for dd in da]\n",
    "        self.users = [dd[meta_type]['user_id'] for dd in da]\n",
    "        self.dates = [dd[meta_type]['date'] for dd in da]\n",
    "        self.lon = [dd[meta_type]['lon'] for dd in da]\n",
    "        self.lat = [dd[meta_type]['lat'] for dd in da]\n",
    "\n",
    "        # print out some stats\n",
    "#         print split_name\n",
    "#         print '\\t' + str(len(self.imgs)) + ' images'\n",
    "#         print '\\t' + str(len(set(self.classes))) + ' classes'\n",
    "\n",
    "        self.root = root\n",
    "        self.is_train = is_train\n",
    "        self.loader = default_loader\n",
    "        self.im_size_resize = im_size_resize\n",
    "        self.im_size_crop = im_size_crop\n",
    "\n",
    "        # augmentation params\n",
    "        self.mu_data = [0.485, 0.456, 0.406]\n",
    "        self.std_data = [0.229, 0.224, 0.225]\n",
    "        self.brightness = 0.4\n",
    "        self.contrast = 0.4\n",
    "        self.saturation = 0.4\n",
    "        self.hue = 0.25\n",
    "\n",
    "        # augmentations\n",
    "        self.resize = transforms.Resize(self.im_size_resize)\n",
    "        self.resize_rand = transforms.RandomResizedCrop(self.im_size_crop)\n",
    "        self.center_crop = transforms.CenterCrop(self.im_size_crop)\n",
    "        self.flip_aug = transforms.RandomHorizontalFlip()\n",
    "        self.color_aug = transforms.ColorJitter(self.brightness, self.contrast, self.saturation, self.hue)\n",
    "        self.tensor_aug = transforms.ToTensor()\n",
    "        self.norm_aug = transforms.Normalize(mean=self.mu_data, std=self.std_data)\n",
    "        \n",
    "\n",
    "    def __getitem__(self, index):\n",
    "        path = self.imgs[index]\n",
    "        im_id = self.imgs[index]\n",
    "        img = self.loader(path)\n",
    "        class_id = self.classes[index]\n",
    "\n",
    "        if self.is_train:\n",
    "            img = self.resize_rand(img)\n",
    "            img = self.flip_aug(img)\n",
    "            img = self.color_aug(img)\n",
    "        else:\n",
    "            img = self.resize(img)\n",
    "            img = self.center_crop(img)\n",
    "\n",
    "        img = self.tensor_aug(img)\n",
    "        img = self.norm_aug(img)\n",
    "        \n",
    "        return img, im_id, class_id\n",
    "\n",
    "    def __len__(self):\n",
    "        return len(self.imgs)"
   ]
  },
  {
   "cell_type": "code",
   "execution_count": 17,
   "metadata": {},
   "outputs": [],
   "source": [
    "meta_data = '/scratch/sm9669/nabirds_with_loc_2019.json'\n",
    "data_root = '/nabirds/images/'"
   ]
  },
  {
   "cell_type": "code",
   "execution_count": 18,
   "metadata": {},
   "outputs": [
    {
     "name": "stdout",
     "output_type": "stream",
     "text": [
      "Loading annotations from: nabirds_with_loc_2019.json\n"
     ]
    }
   ],
   "source": [
    "train_dataset = NABirds(data_root, meta_data,\n",
    "                     split_name='train', im_size_crop=299,\n",
    "                     im_size_resize=342, is_train=True)\n",
    "    \n",
    "train_loader = torch.utils.data.DataLoader(train_dataset, batch_size=64,\n",
    "               shuffle=True, num_workers=0, pin_memory=True)\n",
    "    "
   ]
  },
  {
   "cell_type": "code",
   "execution_count": 19,
   "metadata": {},
   "outputs": [
    {
     "name": "stdout",
     "output_type": "stream",
     "text": [
      "357\n"
     ]
    }
   ],
   "source": [
    "it = iter(train_loader)\n",
    "first = next(it)\n",
    "print(len(train_loader))"
   ]
  },
  {
   "cell_type": "code",
   "execution_count": 20,
   "metadata": {},
   "outputs": [
    {
     "data": {
      "text/plain": [
       "64"
      ]
     },
     "execution_count": 20,
     "metadata": {},
     "output_type": "execute_result"
    }
   ],
   "source": [
    "first[0].shape[0]"
   ]
  },
  {
   "cell_type": "code",
   "execution_count": 21,
   "metadata": {},
   "outputs": [],
   "source": [
    "from torchvision import models\n",
    "import torch\n",
    "import torch.nn as nn"
   ]
  },
  {
   "cell_type": "code",
   "execution_count": 24,
   "metadata": {},
   "outputs": [],
   "source": [
    "model = models.inception_v3(pretrained=True)\n",
    "model.fc = nn.Linear(2048, 555)\n",
    "model.aux_logits = False\n",
    "model = model.cuda()"
   ]
  },
  {
   "cell_type": "code",
   "execution_count": 25,
   "metadata": {},
   "outputs": [],
   "source": [
    "lr =  0.0045\n",
    "criterion = nn.CrossEntropyLoss().cuda()\n",
    "optimizer = torch.optim.SGD(model.parameters(), lr,\n",
    "                            momentum=0.9,\n",
    "                            weight_decay=1e-4)"
   ]
  },
  {
   "cell_type": "code",
   "execution_count": 29,
   "metadata": {},
   "outputs": [],
   "source": [
    "def accuracy(output, target, topk=(1,)):\n",
    "    \"\"\"Computes the precision@k for the specified values of k\"\"\"\n",
    "    maxk = max(topk)\n",
    "    batch_size = target.size(0)\n",
    "\n",
    "    _, pred = output.topk(maxk, 1, True, True)\n",
    "    pred = pred.t()\n",
    "    correct = pred.eq(target.view(1, -1).expand_as(pred))\n",
    "\n",
    "    res = []\n",
    "    for k in topk:\n",
    "        correct_k = correct[:k].view(-1).float().sum(0, keepdim=True)\n",
    "        res.append(correct_k.mul_(100.0 / batch_size))\n",
    "    return res\n"
   ]
  },
  {
   "cell_type": "code",
   "execution_count": 30,
   "metadata": {},
   "outputs": [],
   "source": [
    "def train(train_loader, model, criterion, optimizer, epoch):\n",
    "\n",
    "    model.train()\n",
    "    epoch_loss=0\n",
    "    train_correct_total=0\n",
    "    count=0\n",
    "    for i, (input, im_id, target) in enumerate(train_loader):\n",
    "        input_var = input.cuda()\n",
    "        target_var = target.cuda()\n",
    "        count+=input_var.shape[0]\n",
    "        output = model(input_var)\n",
    "        loss = criterion(output, target_var)\n",
    "        epoch_loss += loss.item()\n",
    "        predicted = torch.argmax(output, dim=1)\n",
    "        correct_reviews_in_batch = (predicted == target_var).sum().item()\n",
    "        train_correct_total += correct_reviews_in_batch\n",
    "        optimizer.zero_grad()\n",
    "        loss.backward()\n",
    "        optimizer.step()\n",
    "    print('Epoch {} - Train Loss {:.2f}'.format(epoch + 1, epoch_loss ))\n",
    "    print('Training Accuracy {:.4f}'.format(train_correct_total * 100 / count))\n"
   ]
  },
  {
   "cell_type": "code",
   "execution_count": 31,
   "metadata": {
    "scrolled": true
   },
   "outputs": [
    {
     "name": "stderr",
     "output_type": "stream",
     "text": [
      " 33%|███▎      | 1/3 [07:46<15:32, 466.29s/it]"
     ]
    },
    {
     "name": "stdout",
     "output_type": "stream",
     "text": [
      "Epoch 1 - Train Loss 1475.46\n",
      "Training Accuracy 17.9017\n"
     ]
    },
    {
     "name": "stderr",
     "output_type": "stream",
     "text": [
      " 67%|██████▋   | 2/3 [15:35<07:48, 468.14s/it]"
     ]
    },
    {
     "name": "stdout",
     "output_type": "stream",
     "text": [
      "Epoch 2 - Train Loss 1138.38\n",
      "Training Accuracy 30.3782\n"
     ]
    },
    {
     "name": "stderr",
     "output_type": "stream",
     "text": [
      "100%|██████████| 3/3 [23:26<00:00, 468.76s/it]"
     ]
    },
    {
     "name": "stdout",
     "output_type": "stream",
     "text": [
      "Epoch 3 - Train Loss 951.26\n",
      "Training Accuracy 39.2655\n"
     ]
    },
    {
     "name": "stderr",
     "output_type": "stream",
     "text": [
      "\n"
     ]
    }
   ],
   "source": [
    "for epoch in tqdm(range(0, 3)):\n",
    "    lr = lr * (0.1 ** (epoch // 3))\n",
    "    train(train_loader, model, criterion, optimizer, epoch)"
   ]
  },
  {
   "cell_type": "code",
   "execution_count": 114,
   "metadata": {},
   "outputs": [],
   "source": [
    "PATH ='/scratch/sm9669/nabird pickle/model_30_inception.pth'\n",
    "torch.save(model.state_dict(), PATH)\n"
   ]
  }
 ],
 "metadata": {
  "kernelspec": {
   "display_name": "Python 3",
   "language": "python",
   "name": "python3"
  },
  "language_info": {
   "codemirror_mode": {
    "name": "ipython",
    "version": 3
   },
   "file_extension": ".py",
   "mimetype": "text/x-python",
   "name": "python",
   "nbconvert_exporter": "python",
   "pygments_lexer": "ipython3",
   "version": "3.8.6"
  }
 },
 "nbformat": 4,
 "nbformat_minor": 4
}
