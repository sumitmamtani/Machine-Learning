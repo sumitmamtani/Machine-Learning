{
 "cells": [
  {
   "cell_type": "markdown",
   "metadata": {},
   "source": [
    "https://machinelearningmastery.com/a-gentle-introduction-to-positional-encoding-in-transformer-models-part-1/"
   ]
  },
  {
   "cell_type": "code",
   "execution_count": 58,
   "metadata": {},
   "outputs": [],
   "source": [
    "import pickle\n",
    "import albumentations as A\n",
    "from torchvision import transforms, datasets\n",
    "import torch.utils.data as data\n",
    "from PIL import Image\n",
    "import os\n",
    "import json\n",
    "from torchvision import transforms\n",
    "import random\n",
    "import numpy as np\n",
    "import json\n",
    "import torch\n",
    "import pickle\n",
    "import cv2\n",
    "import torch.nn as nn\n",
    "import torch.nn.functional as F\n",
    "from torch.utils.data.sampler import SubsetRandomSampler\n",
    "\n",
    "\n",
    "import gc\n",
    "import numpy as np\n",
    "import pandas as pd\n",
    "import itertools\n",
    "from tqdm.autonotebook import tqdm\n",
    "import albumentations as A\n",
    "import matplotlib.pyplot as plt\n",
    "import timm\n",
    "from transformers import DistilBertModel, DistilBertConfig, DistilBertTokenizer\n",
    "\n",
    "import math\n"
   ]
  },
  {
   "cell_type": "markdown",
   "metadata": {},
   "source": [
    "# DATASET"
   ]
  },
  {
   "cell_type": "code",
   "execution_count": 2,
   "metadata": {},
   "outputs": [
    {
     "name": "stderr",
     "output_type": "stream",
     "text": [
      "100%|██████████| 23/23 [00:44<00:00,  1.92s/it]\n"
     ]
    }
   ],
   "source": [
    "from tqdm import tqdm\n",
    "path_to_image = {}\n",
    "for i in tqdm(range(0, 23)):\n",
    "    path = '/scratch/sm9669/nabird pickle/nabird/train_'+str(i*1000)+'.pkl'\n",
    "    file = open(path,'rb')\n",
    "    sub_data = pickle.load(file)\n",
    "    path_to_image.update(sub_data)"
   ]
  },
  {
   "cell_type": "code",
   "execution_count": 3,
   "metadata": {},
   "outputs": [],
   "source": [
    "with open('/scratch/sm9669/classes.txt') as f:\n",
    "    lines = f.readlines()\n",
    "classid_name = []\n",
    "for x in lines:\n",
    "    classid_name.append( x[len(x.split(\" \")[0])+1:-1])"
   ]
  },
  {
   "cell_type": "code",
   "execution_count": 4,
   "metadata": {},
   "outputs": [
    {
     "data": {
      "text/plain": [
       "['Birds',\n",
       " 'Ducks, Geese, and Swans',\n",
       " 'Grouse, Quail, and Allies',\n",
       " 'Loons',\n",
       " 'Grebes',\n",
       " 'Storks',\n",
       " 'Frigatebirds, Boobies, Cormorants, Darters, and Allies',\n",
       " 'Pelicans, Herons, Ibises, and Allies',\n",
       " 'Hawks, Kites, Eagles, and Allies',\n",
       " 'Caracaras and Falcons',\n",
       " 'Cranes and Rails',\n",
       " 'Plovers, Sandpipers, and Allies',\n",
       " 'Skuas and Alcids',\n",
       " 'Gulls, Terns, and Allies',\n",
       " 'Pigeons and Doves',\n",
       " 'Parrots',\n",
       " 'Cuckoos',\n",
       " 'Owls',\n",
       " 'Nightjars',\n",
       " 'Swifts and Hummingbirds',\n",
       " 'Kingfishers and Allies',\n",
       " 'Woodpeckers',\n",
       " 'Perching Birds',\n",
       " 'Black-bellied Plover',\n",
       " 'Black-bellied Whistling-Duck',\n",
       " 'Tyrant Flycatchers',\n",
       " 'Semipalmated Plover',\n",
       " 'Greater White-fronted Goose',\n",
       " 'Black Vulture',\n",
       " 'American White Pelican',\n",
       " 'Killdeer',\n",
       " 'Red-headed Woodpecker',\n",
       " 'Shrikes',\n",
       " 'Snow Goose',\n",
       " 'Chimney Swift',\n",
       " 'American Oystercatcher',\n",
       " \"Ross's Goose\",\n",
       " 'Barn Owl',\n",
       " 'Vireos',\n",
       " 'Black Oystercatcher',\n",
       " 'Turkey Vulture',\n",
       " 'Brown Pelican',\n",
       " 'Brant',\n",
       " 'Scaled Quail',\n",
       " 'Northern Gannet',\n",
       " 'Rock Pigeon',\n",
       " 'Black-necked Stilt',\n",
       " 'Acorn Woodpecker',\n",
       " 'Jays, Magpies, and Crows',\n",
       " 'Pied-billed Grebe',\n",
       " 'American Avocet',\n",
       " 'Cackling Goose',\n",
       " \"Vaux's Swift\",\n",
       " 'Osprey',\n",
       " 'Crested Caracara',\n",
       " 'Larks',\n",
       " 'Spotted Sandpiper',\n",
       " 'Canada Goose',\n",
       " 'Great Blue Heron',\n",
       " 'Solitary Sandpiper',\n",
       " 'Mute Swan',\n",
       " 'Purple Gallinule',\n",
       " 'Western Screech-Owl',\n",
       " 'Gila Woodpecker',\n",
       " 'Swallows',\n",
       " 'Greater Yellowlegs',\n",
       " 'Swallow-tailed Kite',\n",
       " 'Trumpeter Swan',\n",
       " 'White-throated Swift',\n",
       " 'Chickadees and Titmice',\n",
       " 'Willet',\n",
       " 'Great Egret',\n",
       " 'Tundra Swan',\n",
       " 'California Quail',\n",
       " 'Red-throated Loon',\n",
       " \"Brandt's Cormorant\",\n",
       " 'Band-tailed Pigeon',\n",
       " 'Yellow-billed Cuckoo',\n",
       " 'Lesser Yellowlegs',\n",
       " 'Golden-fronted Woodpecker',\n",
       " 'Verdin',\n",
       " 'Wood Duck',\n",
       " 'Whimbrel',\n",
       " 'White-tailed Kite',\n",
       " 'Horned Grebe',\n",
       " 'Snowy Egret',\n",
       " 'Long-billed Curlew',\n",
       " 'Gadwall',\n",
       " 'Eastern Screech-Owl',\n",
       " 'Bushtits',\n",
       " 'Broad-billed Hummingbird',\n",
       " 'Marbled Godwit',\n",
       " 'American Wigeon',\n",
       " 'Mississippi Kite',\n",
       " 'American Kestrel',\n",
       " 'Red-bellied Woodpecker',\n",
       " 'Nuthatches',\n",
       " 'Ruddy Turnstone',\n",
       " 'American Black Duck',\n",
       " 'Little Blue Heron',\n",
       " 'Black Turnstone',\n",
       " 'Creepers',\n",
       " 'Mallard',\n",
       " \"Gambel's Quail\",\n",
       " 'Neotropic Cormorant',\n",
       " 'Eurasian Collared-Dove',\n",
       " 'Surfbird',\n",
       " 'Ruby-throated Hummingbird',\n",
       " 'Bald Eagle',\n",
       " 'Mottled Duck',\n",
       " 'Common Gallinule',\n",
       " 'Great Horned Owl',\n",
       " 'Yellow-bellied Sapsucker',\n",
       " 'Wrens',\n",
       " 'Sanderling',\n",
       " 'Tricolored Heron',\n",
       " 'Blue-winged Teal',\n",
       " 'Semipalmated Sandpiper',\n",
       " 'Red-necked Grebe',\n",
       " 'Gnatcatchers',\n",
       " 'Northern Harrier',\n",
       " 'Western Sandpiper',\n",
       " 'Cinnamon Teal',\n",
       " 'Black-chinned Hummingbird',\n",
       " 'Red-naped Sapsucker',\n",
       " 'Dippers',\n",
       " 'Least Sandpiper',\n",
       " 'Reddish Egret',\n",
       " 'Northern Shoveler',\n",
       " 'Dunlin',\n",
       " 'Northern Pintail',\n",
       " 'Northern Bobwhite',\n",
       " 'Pacific Loon',\n",
       " 'Wood Stork',\n",
       " 'Double-crested Cormorant',\n",
       " 'Sharp-shinned Hawk',\n",
       " 'Merlin',\n",
       " 'White-winged Dove',\n",
       " 'Monk Parakeet',\n",
       " 'Black-billed Cuckoo',\n",
       " 'Snowy Owl',\n",
       " 'Common Nighthawk',\n",
       " 'Belted Kingfisher',\n",
       " 'Kinglets',\n",
       " 'Black Guillemot',\n",
       " 'Black-legged Kittiwake',\n",
       " 'Short-billed Dowitcher',\n",
       " 'Green-winged Teal',\n",
       " 'Cattle Egret',\n",
       " \"Wilson's Snipe\",\n",
       " 'Red-breasted Sapsucker',\n",
       " 'Old World Warblers',\n",
       " \"Anna's Hummingbird\",\n",
       " 'Canvasback',\n",
       " 'American Woodcock',\n",
       " \"Cooper's Hawk\",\n",
       " 'Thrushes',\n",
       " 'Eared Grebe',\n",
       " \"Wilson's Phalarope\",\n",
       " 'Redhead',\n",
       " 'Green Heron',\n",
       " 'Ring-necked Duck',\n",
       " 'American Coot',\n",
       " 'Northern Pygmy-Owl',\n",
       " 'Ladder-backed Woodpecker',\n",
       " 'Mockingbirds, Thrashers, and Allies',\n",
       " \"Harris's Hawk\",\n",
       " \"Costa's Hummingbird\",\n",
       " 'Greater Scaup',\n",
       " 'Ring-necked Pheasant',\n",
       " 'Great Cormorant',\n",
       " 'Mourning Dove',\n",
       " 'Starlings and Allies',\n",
       " 'Black-crowned Night-Heron',\n",
       " 'Lesser Scaup',\n",
       " 'Red-shouldered Hawk',\n",
       " 'Peregrine Falcon',\n",
       " \"Nuttall's Woodpecker\",\n",
       " 'Wagtails and Pipits',\n",
       " 'Common Eider',\n",
       " 'Calliope Hummingbird',\n",
       " 'Harlequin Duck',\n",
       " 'Burrowing Owl',\n",
       " 'Waxwings',\n",
       " 'Yellow-crowned Night-Heron',\n",
       " 'Western Grebe',\n",
       " 'Broad-winged Hawk',\n",
       " 'Surf Scoter',\n",
       " 'Downy Woodpecker',\n",
       " 'Silky-Flycatchers',\n",
       " 'Pigeon Guillemot',\n",
       " \"Bonaparte's Gull\",\n",
       " 'White-winged Scoter',\n",
       " 'Ruffed Grouse',\n",
       " 'Common Loon',\n",
       " 'Pelagic Cormorant',\n",
       " 'Inca Dove',\n",
       " 'Greater Roadrunner',\n",
       " 'White Ibis',\n",
       " 'Longspurs and Snow Buntings',\n",
       " 'Broad-tailed Hummingbird',\n",
       " 'Black Scoter',\n",
       " \"Swainson's Hawk\",\n",
       " 'Long-tailed Duck',\n",
       " 'Sandhill Crane',\n",
       " 'Barred Owl',\n",
       " 'Hairy Woodpecker',\n",
       " 'Wood-Warblers',\n",
       " 'Glossy Ibis',\n",
       " 'Bufflehead',\n",
       " 'Red-tailed Hawk',\n",
       " 'Prairie Falcon',\n",
       " 'New World Sparrows and Allies',\n",
       " 'Rufous Hummingbird',\n",
       " 'Common Goldeneye',\n",
       " \"Clark's Grebe\",\n",
       " 'Northern Flicker',\n",
       " 'Cardinals, Grosbeaks, and Allies',\n",
       " 'Laughing Gull',\n",
       " \"Barrow's Goldeneye\",\n",
       " 'Wild Turkey',\n",
       " 'Anhinga',\n",
       " 'Common Ground-Dove',\n",
       " 'White-faced Ibis',\n",
       " 'Rough-legged Hawk',\n",
       " 'Hooded Merganser',\n",
       " 'Northern Saw-whet Owl',\n",
       " 'Blackbirds and Allies',\n",
       " \"Allen's Hummingbird\",\n",
       " 'Common Merganser',\n",
       " 'Pileated Woodpecker',\n",
       " 'Finches and Allies',\n",
       " \"Heermann's Gull\",\n",
       " 'Roseate Spoonbill',\n",
       " 'Golden Eagle',\n",
       " 'Red-breasted Merganser',\n",
       " 'Old World Sparrows',\n",
       " 'Mew Gull',\n",
       " 'Ruddy Duck',\n",
       " 'Western Gull',\n",
       " 'Ring-billed Gull',\n",
       " 'California Gull',\n",
       " 'Herring Gull',\n",
       " 'Glaucous-winged Gull',\n",
       " 'Great Black-backed Gull',\n",
       " 'Caspian Tern',\n",
       " 'Black Tern',\n",
       " 'Common Tern',\n",
       " \"Forster's Tern\",\n",
       " 'Royal Tern',\n",
       " 'Black Skimmer',\n",
       " 'Ovenbird',\n",
       " 'Green-tailed Towhee',\n",
       " 'Louisiana Waterthrush',\n",
       " 'Bobolink',\n",
       " 'Gray-crowned Rosy-Finch',\n",
       " 'Western Wood-Pewee',\n",
       " 'Gray Jay',\n",
       " 'Spotted Towhee',\n",
       " 'Summer Tanager',\n",
       " 'Northern Waterthrush',\n",
       " 'Carolina Chickadee',\n",
       " 'Eastern Bluebird',\n",
       " 'White-eyed Vireo',\n",
       " 'Purple Martin',\n",
       " 'Cactus Wren',\n",
       " 'Blue-winged Warbler',\n",
       " 'Eastern Towhee',\n",
       " 'Red-winged Blackbird',\n",
       " 'Black Rosy-Finch',\n",
       " 'Eastern Wood-Pewee',\n",
       " \"Steller's Jay\",\n",
       " 'Black-and-white Warbler',\n",
       " 'Rufous-crowned Sparrow',\n",
       " 'Scarlet Tanager',\n",
       " 'Gray Catbird',\n",
       " 'Prothonotary Warbler',\n",
       " 'Eastern Meadowlark',\n",
       " 'Black-capped Chickadee',\n",
       " 'Western Bluebird',\n",
       " 'Brown-capped Rosy-Finch',\n",
       " 'Least Flycatcher',\n",
       " 'Canyon Towhee',\n",
       " 'Tennessee Warbler',\n",
       " 'Red-breasted Nuthatch',\n",
       " \"Bell's Vireo\",\n",
       " 'Blue Jay',\n",
       " 'Tree Swallow',\n",
       " 'Canyon Wren',\n",
       " 'Orange-crowned Warbler',\n",
       " 'California Towhee',\n",
       " 'Western Tanager',\n",
       " 'Western Meadowlark',\n",
       " 'Nashville Warbler',\n",
       " 'Pine Grosbeak',\n",
       " 'Common Eider (Adult male)',\n",
       " 'Long-tailed Duck (Winter male)',\n",
       " 'Ruddy Duck (Breeding male)',\n",
       " \"Swainson's Hawk (Dark morph )\",\n",
       " 'Red-tailed Hawk (Light morph adult)',\n",
       " 'Pacific-slope Flycatcher',\n",
       " 'Florida Scrub-Jay',\n",
       " \"Abert's Towhee\",\n",
       " 'Mountain Chickadee',\n",
       " 'Mountain Bluebird',\n",
       " \"MacGillivray's Warbler\",\n",
       " 'Yellow-headed Blackbird',\n",
       " 'Yellow-throated Vireo',\n",
       " 'Mourning Warbler',\n",
       " 'American Tree Sparrow',\n",
       " 'Northern Cardinal',\n",
       " 'Purple Finch',\n",
       " 'Cordilleran Flycatcher',\n",
       " 'Snow Goose (White morph)',\n",
       " 'Wood Duck (Breeding male)',\n",
       " 'Gadwall (Breeding male)',\n",
       " 'American Wigeon (Breeding male)',\n",
       " 'Mallard (Breeding male)',\n",
       " 'Blue-winged Teal  (Male)',\n",
       " 'Cinnamon Teal (Male)',\n",
       " 'Northern Shoveler (Breeding male)',\n",
       " 'Northern Pintail (Breeding male)',\n",
       " 'Green-winged Teal (Male)',\n",
       " 'Canvasback (Breeding male)',\n",
       " 'Redhead (Breeding male)',\n",
       " 'Ring-necked Duck (Breeding male)',\n",
       " 'Greater Scaup (Breeding male)',\n",
       " 'Lesser Scaup (Breeding male)',\n",
       " 'Harlequin Duck (Male)',\n",
       " 'Surf Scoter (Male)',\n",
       " 'White-winged Scoter (Male)',\n",
       " 'Black Scoter (Male)',\n",
       " 'Bufflehead (Breeding male)',\n",
       " 'Common Goldeneye (Breeding male)',\n",
       " \"Barrow's Goldeneye (Breeding male)\",\n",
       " 'Hooded Merganser (Breeding male)',\n",
       " 'Common Merganser (Breeding male)',\n",
       " 'Red-breasted Merganser (Breeding male)',\n",
       " 'California Quail (Male)',\n",
       " \"Gambel's Quail (Male)\",\n",
       " 'Ring-necked Pheasant (Male)',\n",
       " 'Red-throated Loon (Breeding)',\n",
       " 'Pacific Loon (Breeding)',\n",
       " 'Common Loon (Breeding)',\n",
       " 'Horned Grebe (Breeding)',\n",
       " 'Red-necked Grebe (Breeding)',\n",
       " 'Eared Grebe (Breeding)',\n",
       " 'Northern Gannet (Adult, Subadult)',\n",
       " 'Double-crested Cormorant (Immature)',\n",
       " 'Great Cormorant (Adult)',\n",
       " 'Little Blue Heron (Adult)',\n",
       " 'Reddish Egret (Dark morph)',\n",
       " 'Black-crowned Night-Heron (Adult)',\n",
       " 'Yellow-crowned Night-Heron (Adult)',\n",
       " 'White Ibis (Adult)',\n",
       " 'Bald Eagle (Adult, subadult)',\n",
       " 'Northern Harrier (Adult male)',\n",
       " 'Sharp-shinned Hawk (Adult )',\n",
       " \"Cooper's Hawk (Adult)\",\n",
       " 'Red-shouldered Hawk (Adult )',\n",
       " 'Broad-winged Hawk (Adult)',\n",
       " 'Rough-legged Hawk (Dark morph)',\n",
       " 'Golden Eagle (Adult)',\n",
       " 'American Kestrel (Adult male)',\n",
       " 'Peregrine Falcon (Adult)',\n",
       " 'Purple Gallinule (Adult)',\n",
       " 'Common Gallinule (Adult)',\n",
       " 'Black-bellied Plover (Breeding)',\n",
       " 'Spotted Sandpiper (Breeding)',\n",
       " 'Sanderling (Breeding)',\n",
       " 'Dunlin (Breeding)',\n",
       " \"Wilson's Phalarope (Breeding)\",\n",
       " 'Broad-billed Hummingbird (Adult Male)',\n",
       " 'Ruby-throated Hummingbird (Adult Male)',\n",
       " 'Black-chinned Hummingbird (Adult Male)',\n",
       " \"Anna's Hummingbird (Adult Male)\",\n",
       " \"Costa's Hummingbird (Adult Male)\",\n",
       " 'Calliope Hummingbird (Adult Male)',\n",
       " 'Broad-tailed Hummingbird (Adult Male)',\n",
       " 'Rufous Hummingbird (Adult Male)',\n",
       " \"Allen's Hummingbird (Adult Male)\",\n",
       " 'Red-headed Woodpecker (Adult)',\n",
       " 'Northern Flicker (Yellow-shafted)',\n",
       " 'Loggerhead Shrike',\n",
       " 'Western Scrub-Jay',\n",
       " 'Violet-green Swallow',\n",
       " 'Carolina Wren',\n",
       " 'Blue-gray Gnatcatcher',\n",
       " 'Golden-crowned Kinglet',\n",
       " 'Northern Mockingbird',\n",
       " 'Bohemian Waxwing',\n",
       " 'Common Yellowthroat',\n",
       " 'Black Guillemot (Breeding)',\n",
       " 'Pigeon Guillemot (Breeding)',\n",
       " 'Black-legged Kittiwake (Adult)',\n",
       " 'Laughing Gull (Breeding)',\n",
       " \"Heermann's Gull (Adult)\",\n",
       " 'Ring-billed Gull (Adult)',\n",
       " 'Western Gull (Adult)',\n",
       " 'California Gull (Adult)',\n",
       " 'Herring Gull (Adult)',\n",
       " 'Glaucous-winged Gull (Adult)',\n",
       " 'Great Black-backed Gull (Adult)',\n",
       " 'Chipping Sparrow',\n",
       " 'Rusty Blackbird',\n",
       " 'Hooded Warbler',\n",
       " 'Chestnut-backed Chickadee',\n",
       " \"Townsend's Solitaire\",\n",
       " \"Cassin's Finch\",\n",
       " 'Black Phoebe',\n",
       " 'Clay-colored Sparrow',\n",
       " 'Pyrrhuloxia',\n",
       " 'American Redstart',\n",
       " 'White-breasted Nuthatch',\n",
       " 'Plumbeous Vireo',\n",
       " 'Mexican Jay',\n",
       " \"Brewer's Blackbird\",\n",
       " 'Cape May Warbler',\n",
       " \"Brewer's Sparrow\",\n",
       " 'House Finch',\n",
       " 'Eastern Phoebe',\n",
       " 'Northern Rough-winged Swallow',\n",
       " \"Bewick's Wren\",\n",
       " 'Northern Parula',\n",
       " 'Boreal Chickadee',\n",
       " 'Veery',\n",
       " 'Field Sparrow',\n",
       " 'Rose-breasted Grosbeak',\n",
       " \"Clark's Nutcracker\",\n",
       " 'Common Grackle',\n",
       " 'Magnolia Warbler',\n",
       " 'Vesper Sparrow',\n",
       " 'Horned Lark',\n",
       " 'Verdin',\n",
       " 'Bushtit',\n",
       " 'Brown Creeper',\n",
       " 'American Dipper',\n",
       " 'Wrentit',\n",
       " 'Brown Thrasher',\n",
       " 'European Starling',\n",
       " 'American Pipit',\n",
       " 'Phainopepla',\n",
       " 'Snow Bunting',\n",
       " 'Bay-breasted Warbler',\n",
       " 'Red Crossbill',\n",
       " 'House Sparrow',\n",
       " \"Bonaparte's Gull\",\n",
       " 'Mew Gull',\n",
       " 'Caspian Tern',\n",
       " 'Black Tern',\n",
       " 'Common Tern',\n",
       " \"Forster's Tern\",\n",
       " 'Royal Tern',\n",
       " 'Black Skimmer',\n",
       " 'Greater White-fronted Goose',\n",
       " 'Brant',\n",
       " 'Cackling Goose',\n",
       " 'Canada Goose',\n",
       " 'Mute Swan',\n",
       " 'Trumpeter Swan',\n",
       " 'Tundra Swan',\n",
       " 'American Black Duck',\n",
       " 'Mottled Duck',\n",
       " 'Common Eider (Female/juvenile)',\n",
       " 'Long-tailed Duck (Summer male)',\n",
       " 'Ruddy Duck (Winter male)',\n",
       " 'Scaled Quail',\n",
       " 'Northern Bobwhite',\n",
       " 'Ruffed Grouse',\n",
       " 'Wild Turkey',\n",
       " 'Pied-billed Grebe',\n",
       " 'Western Grebe',\n",
       " \"Clark's Grebe\",\n",
       " 'Wood Stork',\n",
       " \"Brandt's Cormorant\",\n",
       " 'Neotropic Cormorant',\n",
       " 'Pelagic Cormorant',\n",
       " 'Anhinga',\n",
       " 'American White Pelican',\n",
       " 'Brown Pelican',\n",
       " 'Great Blue Heron',\n",
       " 'Great Egret',\n",
       " 'Snowy Egret',\n",
       " 'Tricolored Heron',\n",
       " 'Cattle Egret',\n",
       " 'Green Heron',\n",
       " 'Glossy Ibis',\n",
       " 'White-faced Ibis',\n",
       " 'Roseate Spoonbill',\n",
       " 'Black Vulture',\n",
       " 'Turkey Vulture',\n",
       " 'Osprey',\n",
       " 'Swallow-tailed Kite',\n",
       " 'White-tailed Kite',\n",
       " 'Mississippi Kite',\n",
       " \"Harris's Hawk\",\n",
       " \"Swainson's Hawk (Light morph )\",\n",
       " 'Red-tailed Hawk (Dark morph)',\n",
       " 'Crested Caracara',\n",
       " 'Merlin',\n",
       " 'Prairie Falcon',\n",
       " 'American Coot',\n",
       " 'Sandhill Crane',\n",
       " 'Semipalmated Plover',\n",
       " 'Killdeer',\n",
       " 'American Oystercatcher',\n",
       " 'Black Oystercatcher',\n",
       " 'Black-necked Stilt',\n",
       " 'American Avocet',\n",
       " 'Solitary Sandpiper',\n",
       " 'Greater Yellowlegs',\n",
       " 'Willet',\n",
       " 'Lesser Yellowlegs',\n",
       " 'Whimbrel',\n",
       " 'Long-billed Curlew',\n",
       " 'Marbled Godwit',\n",
       " 'Ruddy Turnstone',\n",
       " 'Black Turnstone',\n",
       " 'Surfbird',\n",
       " 'Semipalmated Sandpiper',\n",
       " 'Western Sandpiper',\n",
       " 'Least Sandpiper',\n",
       " 'Short-billed Dowitcher',\n",
       " \"Wilson's Snipe\",\n",
       " 'American Woodcock',\n",
       " 'Rock Pigeon',\n",
       " 'Band-tailed Pigeon',\n",
       " 'Eurasian Collared-Dove',\n",
       " 'White-winged Dove',\n",
       " 'Mourning Dove',\n",
       " 'Inca Dove',\n",
       " 'Common Ground-Dove',\n",
       " 'Monk Parakeet',\n",
       " 'Yellow-billed Cuckoo',\n",
       " 'Black-billed Cuckoo',\n",
       " 'Greater Roadrunner',\n",
       " 'Barn Owl',\n",
       " 'Western Screech-Owl',\n",
       " 'Eastern Screech-Owl',\n",
       " 'Great Horned Owl',\n",
       " 'Snowy Owl',\n",
       " 'Northern Pygmy-Owl',\n",
       " 'Burrowing Owl',\n",
       " 'Barred Owl',\n",
       " 'Northern Saw-whet Owl',\n",
       " 'Common Nighthawk',\n",
       " 'Chimney Swift',\n",
       " \"Vaux's Swift\",\n",
       " 'White-throated Swift',\n",
       " 'Belted Kingfisher',\n",
       " 'Acorn Woodpecker',\n",
       " 'Gila Woodpecker',\n",
       " 'Golden-fronted Woodpecker',\n",
       " 'Red-bellied Woodpecker',\n",
       " 'Yellow-bellied Sapsucker',\n",
       " 'Red-naped Sapsucker',\n",
       " 'Red-breasted Sapsucker',\n",
       " 'Ladder-backed Woodpecker',\n",
       " \"Nuttall's Woodpecker\",\n",
       " 'Downy Woodpecker',\n",
       " 'Hairy Woodpecker',\n",
       " 'Pileated Woodpecker',\n",
       " \"Say's Phoebe\",\n",
       " \"Cassin's Vireo\",\n",
       " 'Blackburnian Warbler',\n",
       " 'Boat-tailed Grackle',\n",
       " 'Black-billed Magpie',\n",
       " 'Lark Sparrow',\n",
       " 'Black-headed Grosbeak',\n",
       " 'Bridled Titmouse',\n",
       " \"Swainson's Thrush\",\n",
       " 'Bank Swallow',\n",
       " 'House Wren',\n",
       " 'Yellow Warbler',\n",
       " 'White-winged Crossbill',\n",
       " 'Vermilion Flycatcher',\n",
       " 'Lark Bunting',\n",
       " 'Chestnut-sided Warbler',\n",
       " 'Great-tailed Grackle',\n",
       " 'Pygmy Nuthatch',\n",
       " 'Blue-headed Vireo',\n",
       " 'Yellow-billed Magpie',\n",
       " 'Blackpoll Warbler',\n",
       " 'Savannah Sparrow',\n",
       " 'Blue Grosbeak',\n",
       " 'Common Redpoll',\n",
       " 'Ash-throated Flycatcher',\n",
       " 'Oak Titmouse',\n",
       " 'Hermit Thrush',\n",
       " 'Black-throated Blue Warbler',\n",
       " 'Bronzed Cowbird',\n",
       " 'Fox Sparrow',\n",
       " 'Cliff Swallow',\n",
       " 'Pacific Wren',\n",
       " 'Black-tailed Gnatcatcher',\n",
       " 'Ruby-crowned Kinglet',\n",
       " 'Curve-billed Thrasher',\n",
       " 'Cedar Waxwing',\n",
       " 'Palm Warbler',\n",
       " 'Black Guillemot (Nonbreeding, juvenile)',\n",
       " 'Pigeon Guillemot (Nonbreeding, juvenile)',\n",
       " 'Black-legged Kittiwake (Immature)',\n",
       " 'Laughing Gull (Nonbreeding/Immature)',\n",
       " \"Heermann's Gull (Immature)\",\n",
       " 'Ring-billed Gull (Immature)',\n",
       " 'Western Gull (Immature)',\n",
       " 'California Gull (Immature)',\n",
       " 'Herring Gull (Immature)',\n",
       " 'Glaucous-winged Gull (Immature)',\n",
       " 'Great Black-backed Gull (Immature)',\n",
       " 'Black-bellied Whistling-Duck',\n",
       " 'Snow Goose (Blue morph)',\n",
       " \"Ross's Goose\",\n",
       " 'Wood Duck (Female/Eclipse male)',\n",
       " 'Gadwall (Female/Eclipse male)',\n",
       " 'American Wigeon (Female/Eclipse male)',\n",
       " 'Mallard (Female/Eclipse male)',\n",
       " 'Blue-winged Teal  (Female/juvenile)',\n",
       " 'Cinnamon Teal (Female/juvenile)',\n",
       " 'Northern Shoveler (Female/Eclipse male)',\n",
       " 'Northern Pintail (Female/Eclipse male)',\n",
       " 'Green-winged Teal  (Female/juvenile)',\n",
       " 'Canvasback (Female/Eclipse male)',\n",
       " 'Redhead (Female/Eclipse male)',\n",
       " 'Ring-necked Duck (Female/Eclipse male)',\n",
       " 'Greater Scaup (Female/Eclipse male)',\n",
       " 'Lesser Scaup (Female/Eclipse male)',\n",
       " 'Harlequin Duck (Female/juvenile)',\n",
       " 'Surf Scoter (Female/immature)',\n",
       " 'White-winged Scoter (Female/juvenile)',\n",
       " 'Black Scoter (Female/juvenile)',\n",
       " 'Bufflehead (Female/immature male)',\n",
       " 'Common Goldeneye (Female/Eclipse male)',\n",
       " \"Barrow's Goldeneye (Female/Eclipse male)\",\n",
       " 'Hooded Merganser (Female/immature male)',\n",
       " 'Common Merganser (Female/immature male)',\n",
       " 'Red-breasted Merganser (Female/immature male)',\n",
       " 'California Quail (Female/juvenile)',\n",
       " \"Gambel's Quail (Female/juvenile)\",\n",
       " 'Ring-necked Pheasant (Female/juvenile)',\n",
       " 'Red-throated Loon (Nonbreeding/juvenile)',\n",
       " 'Pacific Loon (Nonbreeding/juvenile)',\n",
       " 'Common Loon (Nonbreeding/juvenile)',\n",
       " 'Horned Grebe (Nonbreeding/juvenile)',\n",
       " 'Red-necked Grebe (Nonbreeding/juvenile)',\n",
       " 'Eared Grebe (Nonbreeding/juvenile)',\n",
       " 'Northern Gannet (Immature/Juvenile)',\n",
       " 'Double-crested Cormorant (Adult)',\n",
       " 'Great Cormorant (Immature)',\n",
       " 'Little Blue Heron (Immature)',\n",
       " 'Reddish Egret (White morph)',\n",
       " 'Black-crowned Night-Heron (Immature)',\n",
       " 'Yellow-crowned Night-Heron (Immature)',\n",
       " 'White Ibis (Immature)',\n",
       " 'Bald Eagle (Immature, juvenile)',\n",
       " 'Northern Harrier (Female, immature)',\n",
       " 'Sharp-shinned Hawk (Immature)',\n",
       " \"Cooper's Hawk (Immature)\",\n",
       " 'Red-shouldered Hawk (Immature)',\n",
       " 'Broad-winged Hawk (Immature)',\n",
       " 'Rough-legged Hawk (Light morph)',\n",
       " 'Golden Eagle (Immature)',\n",
       " 'American Kestrel (Female, immature)',\n",
       " 'Peregrine Falcon (Immature)',\n",
       " 'Purple Gallinule (Immature)',\n",
       " 'Common Gallinule (Immature)',\n",
       " 'Black-bellied Plover (Nonbreeding/juvenile)',\n",
       " 'Spotted Sandpiper (Nonbreeding/juvenile)',\n",
       " 'Sanderling (Nonbreeding/juvenile)',\n",
       " 'Dunlin (Nonbreeding/juvenile)',\n",
       " \"Wilson's Phalarope (Nonbreeding, juvenile)\",\n",
       " 'Broad-billed Hummingbird (Female, immature)',\n",
       " 'Ruby-throated Hummingbird (Female, immature)',\n",
       " 'Black-chinned Hummingbird (Female, immature)',\n",
       " \"Anna's Hummingbird (Female, immature)\",\n",
       " \"Costa's Hummingbird (Female, immature)\",\n",
       " 'Calliope Hummingbird (Female, immature)',\n",
       " 'Broad-tailed Hummingbird (Female, immature)',\n",
       " 'Rufous Hummingbird (Female, immature)',\n",
       " \"Allen's Hummingbird (Female, immature)\",\n",
       " 'Red-headed Woodpecker (Immature)',\n",
       " 'Northern Flicker (Red-shafted)',\n",
       " 'Northern Shrike',\n",
       " 'American Crow',\n",
       " 'Great Crested Flycatcher',\n",
       " 'Hoary Redpoll',\n",
       " 'Song Sparrow',\n",
       " 'Lazuli Bunting',\n",
       " 'Pine Warbler',\n",
       " \"Hutton's Vireo\",\n",
       " 'Brown-headed Cowbird',\n",
       " 'Yellow-rumped Warbler',\n",
       " 'Juniper Titmouse',\n",
       " 'Wood Thrush',\n",
       " \"Lincoln's Sparrow\",\n",
       " 'Northwestern Crow',\n",
       " 'Common Eider (Immature/Eclipse male)',\n",
       " 'Long-tailed Duck (Female/juvenile)',\n",
       " 'Ruddy Duck (Female/juvenile)',\n",
       " \"Swainson's Hawk (Immature)\",\n",
       " 'Red-tailed Hawk (Light morph immature)',\n",
       " \"Cassin's Kingbird\",\n",
       " 'Yellow-throated Warbler',\n",
       " 'Pine Siskin',\n",
       " 'Orchard Oriole',\n",
       " 'Swamp Sparrow',\n",
       " 'Indigo Bunting',\n",
       " 'Cave Swallow',\n",
       " 'Winter Wren',\n",
       " 'Prairie Warbler',\n",
       " 'Fish Crow',\n",
       " 'Brown-headed Nuthatch',\n",
       " 'Warbling Vireo',\n",
       " 'Black-throated Gray Warbler',\n",
       " 'White-throated Sparrow',\n",
       " 'Lesser Goldfinch',\n",
       " 'Western Kingbird',\n",
       " 'Tufted Titmouse',\n",
       " 'American Robin',\n",
       " 'Hooded Oriole',\n",
       " 'California Thrasher',\n",
       " \"Townsend's Warbler\",\n",
       " \"Harris's Sparrow\",\n",
       " 'Painted Bunting',\n",
       " 'Hermit Warbler',\n",
       " 'Chihuahuan Raven',\n",
       " 'American Goldfinch',\n",
       " 'Eastern Kingbird',\n",
       " \"Bullock's Oriole\",\n",
       " 'White-crowned Sparrow',\n",
       " 'Barn Swallow',\n",
       " 'Marsh Wren',\n",
       " 'Black-throated Green Warbler',\n",
       " 'Red-eyed Vireo',\n",
       " 'Black-crested Titmouse',\n",
       " 'Varied Thrush',\n",
       " 'Canada Warbler',\n",
       " 'Golden-crowned Sparrow',\n",
       " 'Dickcissel',\n",
       " 'Common Raven',\n",
       " 'Evening Grosbeak',\n",
       " 'Scissor-tailed Flycatcher',\n",
       " 'Baltimore Oriole',\n",
       " \"Wilson's Warbler\",\n",
       " 'Dark-eyed Junco',\n",
       " 'Yellow-breasted Chat',\n",
       " 'Dark-eyed Junco (Slate-colored)',\n",
       " 'Yellow-rumped Warbler (Breeding Myrtle)',\n",
       " 'European Starling (Breeding Adult)',\n",
       " 'Fox Sparrow (Red)',\n",
       " 'Summer Tanager (Adult Male)',\n",
       " 'Orchard Oriole (Adult Male)',\n",
       " 'Purple Martin (Adult male)',\n",
       " 'American Robin (Adult)',\n",
       " 'Phainopepla (Female/juvenile)',\n",
       " 'Snow Bunting (Breeding adult)',\n",
       " 'Common Yellowthroat (Adult Male)',\n",
       " 'American Redstart (Adult Male)',\n",
       " 'Magnolia Warbler (Breeding male)',\n",
       " 'Bay-breasted Warbler (Breeding male)',\n",
       " 'Chestnut-sided Warbler (Breeding male)',\n",
       " 'Blackpoll Warbler (Breeding male)',\n",
       " 'Black-throated Blue Warbler (Adult Male)',\n",
       " 'Lark Bunting (Breeding male)',\n",
       " 'White-throated Sparrow (White-striped)',\n",
       " \"Harris's Sparrow (Adult)\",\n",
       " 'White-crowned Sparrow (Adult)',\n",
       " 'Golden-crowned Sparrow (Adult)',\n",
       " 'Dark-eyed Junco (Oregon)',\n",
       " 'Chipping Sparrow (Breeding)',\n",
       " 'Scarlet Tanager (Breeding Male)',\n",
       " 'Western Tanager (Breeding Male)',\n",
       " 'Northern Cardinal (Adult Male)',\n",
       " 'Rose-breasted Grosbeak (Adult Male)',\n",
       " 'Black-headed Grosbeak (Adult Male)',\n",
       " 'Blue Grosbeak (Adult Male)',\n",
       " 'Lazuli Bunting (Adult Male)',\n",
       " 'Indigo Bunting (Adult Male)',\n",
       " 'Painted Bunting (Adult Male)',\n",
       " 'Bobolink (Breeding male)',\n",
       " 'Red-winged Blackbird (Male)',\n",
       " 'Yellow-headed Blackbird (Adult Male)',\n",
       " \"Brewer's Blackbird (Female/Juvenile)\",\n",
       " 'Brown-headed Cowbird (Male)',\n",
       " 'Hooded Oriole (Adult male)',\n",
       " \"Bullock's Oriole (Adult male)\",\n",
       " 'Baltimore Oriole (Adult male)',\n",
       " 'Pine Grosbeak (Adult Male)',\n",
       " 'Purple Finch (Adult Male)',\n",
       " \"Cassin's Finch (Adult Male)\",\n",
       " 'House Finch (Adult Male)',\n",
       " 'Red Crossbill (Adult Male)',\n",
       " 'White-winged Crossbill (Adult Male)',\n",
       " 'Lesser Goldfinch (Adult Male)',\n",
       " 'American Goldfinch (Breeding Male)',\n",
       " 'Evening Grosbeak (Adult Male)',\n",
       " 'House Sparrow (Male)',\n",
       " 'Vermilion Flycatcher (Adult male)',\n",
       " 'Yellow-rumped Warbler (Winter/juvenile Myrtle)',\n",
       " 'Northwestern Crow',\n",
       " 'Fish Crow',\n",
       " 'Chihuahuan Raven',\n",
       " 'Common Raven',\n",
       " 'Horned Lark',\n",
       " 'Tree Swallow',\n",
       " 'Violet-green Swallow',\n",
       " 'Northern Rough-winged Swallow',\n",
       " 'Bank Swallow',\n",
       " 'Cliff Swallow',\n",
       " 'Cave Swallow',\n",
       " 'Barn Swallow',\n",
       " 'Carolina Chickadee',\n",
       " 'Black-capped Chickadee',\n",
       " 'Mountain Chickadee',\n",
       " 'Chestnut-backed Chickadee',\n",
       " 'Boreal Chickadee',\n",
       " 'Bridled Titmouse',\n",
       " 'Oak Titmouse',\n",
       " 'Juniper Titmouse',\n",
       " 'Tufted Titmouse',\n",
       " 'Black-crested Titmouse',\n",
       " 'Verdin',\n",
       " 'Bushtit',\n",
       " 'Red-breasted Nuthatch',\n",
       " 'White-breasted Nuthatch',\n",
       " 'Pygmy Nuthatch',\n",
       " 'Brown-headed Nuthatch',\n",
       " 'Brown Creeper',\n",
       " 'Cactus Wren',\n",
       " 'Canyon Wren',\n",
       " 'Carolina Wren',\n",
       " \"Bewick's Wren\",\n",
       " 'House Wren',\n",
       " 'Pacific Wren',\n",
       " 'Winter Wren',\n",
       " 'Marsh Wren',\n",
       " 'Blue-gray Gnatcatcher',\n",
       " 'Black-tailed Gnatcatcher',\n",
       " 'American Dipper',\n",
       " 'Golden-crowned Kinglet',\n",
       " 'Ruby-crowned Kinglet',\n",
       " 'Wrentit',\n",
       " 'Eastern Bluebird',\n",
       " 'Western Bluebird',\n",
       " 'Mountain Bluebird',\n",
       " \"Townsend's Solitaire\",\n",
       " 'Veery',\n",
       " \"Swainson's Thrush\",\n",
       " 'Hermit Thrush',\n",
       " 'Wood Thrush',\n",
       " 'Varied Thrush',\n",
       " 'Gray Catbird',\n",
       " 'Northern Mockingbird',\n",
       " 'Brown Thrasher',\n",
       " 'Curve-billed Thrasher',\n",
       " 'California Thrasher',\n",
       " 'European Starling (Nonbreeding Adult)',\n",
       " 'American Pipit',\n",
       " 'Bohemian Waxwing',\n",
       " 'Cedar Waxwing',\n",
       " 'Ovenbird',\n",
       " 'Louisiana Waterthrush',\n",
       " 'Northern Waterthrush',\n",
       " 'Blue-winged Warbler',\n",
       " 'Black-and-white Warbler',\n",
       " 'Prothonotary Warbler',\n",
       " 'Tennessee Warbler',\n",
       " 'Orange-crowned Warbler',\n",
       " 'Nashville Warbler',\n",
       " \"MacGillivray's Warbler\",\n",
       " 'Mourning Warbler',\n",
       " 'Hooded Warbler',\n",
       " 'Cape May Warbler',\n",
       " 'Northern Parula',\n",
       " 'Blackburnian Warbler',\n",
       " 'Yellow Warbler',\n",
       " 'Palm Warbler',\n",
       " 'Pine Warbler',\n",
       " 'Yellow-throated Warbler',\n",
       " 'Prairie Warbler',\n",
       " 'Black-throated Gray Warbler',\n",
       " \"Townsend's Warbler\",\n",
       " 'Hermit Warbler',\n",
       " 'Black-throated Green Warbler',\n",
       " 'Canada Warbler',\n",
       " \"Wilson's Warbler\",\n",
       " 'Yellow-breasted Chat',\n",
       " 'Green-tailed Towhee',\n",
       " 'Spotted Towhee',\n",
       " 'Eastern Towhee',\n",
       " 'Rufous-crowned Sparrow',\n",
       " 'Canyon Towhee',\n",
       " 'California Towhee',\n",
       " \"Abert's Towhee\",\n",
       " 'American Tree Sparrow',\n",
       " 'Clay-colored Sparrow',\n",
       " \"Brewer's Sparrow\",\n",
       " 'Field Sparrow',\n",
       " 'Vesper Sparrow',\n",
       " 'Lark Sparrow',\n",
       " 'Savannah Sparrow',\n",
       " 'Fox Sparrow (Sooty)',\n",
       " 'Song Sparrow',\n",
       " \"Lincoln's Sparrow\",\n",
       " 'Swamp Sparrow',\n",
       " 'Dark-eyed Junco (Pink-sided)',\n",
       " 'Summer Tanager (Female)',\n",
       " 'Pyrrhuloxia',\n",
       " 'Dickcissel',\n",
       " 'Eastern Meadowlark',\n",
       " 'Western Meadowlark',\n",
       " 'Rusty Blackbird',\n",
       " 'Common Grackle',\n",
       " 'Boat-tailed Grackle',\n",
       " 'Great-tailed Grackle',\n",
       " 'Bronzed Cowbird',\n",
       " 'Orchard Oriole (Immature Male)',\n",
       " 'Gray-crowned Rosy-Finch',\n",
       " 'Black Rosy-Finch',\n",
       " 'Brown-capped Rosy-Finch',\n",
       " 'Common Redpoll',\n",
       " 'Hoary Redpoll',\n",
       " 'Pine Siskin',\n",
       " 'Western Wood-Pewee',\n",
       " 'Eastern Wood-Pewee',\n",
       " 'Least Flycatcher',\n",
       " 'Pacific-slope Flycatcher',\n",
       " 'Cordilleran Flycatcher',\n",
       " 'Black Phoebe',\n",
       " 'Eastern Phoebe',\n",
       " \"Say's Phoebe\",\n",
       " 'Ash-throated Flycatcher',\n",
       " 'Great Crested Flycatcher',\n",
       " \"Cassin's Kingbird\",\n",
       " 'Western Kingbird',\n",
       " 'Eastern Kingbird',\n",
       " 'Scissor-tailed Flycatcher',\n",
       " 'Loggerhead Shrike',\n",
       " 'Northern Shrike',\n",
       " 'White-eyed Vireo',\n",
       " \"Bell's Vireo\",\n",
       " 'Yellow-throated Vireo',\n",
       " 'Plumbeous Vireo',\n",
       " \"Cassin's Vireo\",\n",
       " 'Blue-headed Vireo',\n",
       " \"Hutton's Vireo\",\n",
       " 'Warbling Vireo',\n",
       " 'Red-eyed Vireo',\n",
       " 'Gray Jay',\n",
       " \"Steller's Jay\",\n",
       " 'Blue Jay',\n",
       " 'Florida Scrub-Jay',\n",
       " 'Western Scrub-Jay',\n",
       " 'Mexican Jay',\n",
       " \"Clark's Nutcracker\",\n",
       " 'Black-billed Magpie',\n",
       " 'Yellow-billed Magpie',\n",
       " 'American Crow',\n",
       " \"Yellow-rumped Warbler (Breeding Audubon's)\",\n",
       " 'Purple Martin (Female/juvenile)',\n",
       " 'American Robin (Juvenile)',\n",
       " 'Phainopepla (Male)',\n",
       " 'Snow Bunting (Nonbreeding)',\n",
       " 'Common Yellowthroat (Female/immature male)',\n",
       " 'American Redstart (Female/juvenile)',\n",
       " 'Magnolia Warbler (Female/immature male)',\n",
       " 'Bay-breasted Warbler (Female, Nonbreeding male, Immature)',\n",
       " 'Chestnut-sided Warbler (Female/immature male)',\n",
       " 'Blackpoll Warbler (Female/juvenile)',\n",
       " 'Black-throated Blue Warbler (Female/Immature male)',\n",
       " 'Lark Bunting (Female/Nonbreeding male)',\n",
       " 'White-throated Sparrow (Tan-striped/immature)',\n",
       " \"Harris's Sparrow (Immature)\",\n",
       " 'White-crowned Sparrow (Immature)',\n",
       " 'Golden-crowned Sparrow (Immature)',\n",
       " 'Dark-eyed Junco (White-winged)',\n",
       " 'Chipping Sparrow (Immature/nonbreeding adult)',\n",
       " 'Scarlet Tanager (Female/Nonbreeding Male)',\n",
       " 'Western Tanager (Female/Nonbreeding Male)',\n",
       " 'Northern Cardinal (Female/Juvenile)',\n",
       " 'Rose-breasted Grosbeak (Female/immature male)',\n",
       " 'Black-headed Grosbeak (Female/immature male)',\n",
       " 'Blue Grosbeak (Female/juvenile)',\n",
       " 'Lazuli Bunting (Female/juvenile)',\n",
       " 'Indigo Bunting (Female/juvenile)',\n",
       " 'Painted Bunting (Female/juvenile)',\n",
       " 'Bobolink (Female/juvenile/nonbreeding male)',\n",
       " 'Red-winged Blackbird (Female/juvenile)',\n",
       " 'Yellow-headed Blackbird (Female/Immature Male)',\n",
       " \"Brewer's Blackbird (Male)\",\n",
       " 'Brown-headed Cowbird (Female/Juvenile)',\n",
       " 'Hooded Oriole (Female/Immature male)',\n",
       " \"Bullock's Oriole (Female/Immature male)\",\n",
       " 'Baltimore Oriole (Female/Immature male)',\n",
       " 'Pine Grosbeak (Female/juvenile)',\n",
       " 'Purple Finch (Female/immature)',\n",
       " \"Cassin's Finch (Female/immature)\",\n",
       " 'House Finch (Female/immature)',\n",
       " 'Red Crossbill (Female/juvenile)',\n",
       " 'White-winged Crossbill (Female/juvenile)',\n",
       " ...]"
      ]
     },
     "execution_count": 4,
     "metadata": {},
     "output_type": "execute_result"
    }
   ],
   "source": [
    "classid_name"
   ]
  },
  {
   "cell_type": "code",
   "execution_count": 5,
   "metadata": {},
   "outputs": [],
   "source": [
    "def imgpath_name(path):\n",
    "    class_id = int(path.split('/')[0])\n",
    "    return classid_name[class_id]"
   ]
  },
  {
   "cell_type": "code",
   "execution_count": 6,
   "metadata": {},
   "outputs": [],
   "source": [
    "meta_data = '/scratch/sm9669/nabirds_with_loc_2019.json'"
   ]
  },
  {
   "cell_type": "code",
   "execution_count": 77,
   "metadata": {},
   "outputs": [],
   "source": [
    "class CFG:\n",
    "    debug = False\n",
    "#     image_path = image_path\n",
    "#     captions_path = captions_path\n",
    "    batch_size = 32\n",
    "    num_workers = 2\n",
    "    head_lr = 1e-3\n",
    "    image_encoder_lr = 1e-4\n",
    "    text_encoder_lr = 1e-5\n",
    "    meta_encoder_lr = 0.0005\n",
    "    weight_decay = 1e-3\n",
    "    patience = 1\n",
    "    factor = 0.8\n",
    "    epochs = 3\n",
    "    device = torch.device(\"cuda\" if torch.cuda.is_available() else \"cpu\")\n",
    "\n",
    "    model_name = 'resnet50'\n",
    "    image_embedding = 2048\n",
    "    meta_embedding = 256\n",
    "    text_encoder_model = \"distilbert-base-uncased\"\n",
    "    text_embedding = 768\n",
    "    text_tokenizer = \"distilbert-base-uncased\"\n",
    "    max_length = 200\n",
    "\n",
    "    pretrained = True # for both image encoder and text encoder\n",
    "    trainable = True # for both image encoder and text encoder\n",
    "    temperature = 1.0\n",
    "\n",
    "    # image size\n",
    "    size = 224\n",
    "\n",
    "    # for projection head; used for both image and text encoders\n",
    "    num_projection_layers = 1\n",
    "    projection_dim = 256 \n",
    "    dropout = 0.1"
   ]
  },
  {
   "cell_type": "code",
   "execution_count": 8,
   "metadata": {},
   "outputs": [],
   "source": [
    "params={}\n",
    "params['loc_encode'] = 'encode_cos_sin'\n",
    "params['use_date_feats']=True\n",
    "params['date_encode'] = 'encode_cos_sin'\n",
    "params['device'] = 'cuda' if torch.cuda.is_available() else 'cpu'"
   ]
  },
  {
   "cell_type": "code",
   "execution_count": 23,
   "metadata": {},
   "outputs": [],
   "source": [
    "import numpy as np\n",
    "import torch\n",
    "import json\n",
    "import os\n",
    "import math\n",
    "from torch.utils.data.sampler import Sampler\n",
    "\n",
    "\n",
    "def encode_loc_time(loc_ip, date_ip, concat_dim=1, params=None):\n",
    "    # assumes inputs location and date features are in range -1 to 1\n",
    "    # location is lon, lat\n",
    "\n",
    "    if params['loc_encode'] == 'encode_cos_sin':\n",
    "        feats = torch.cat((torch.sin(math.pi*loc_ip), torch.cos(math.pi*loc_ip)), concat_dim)\n",
    "\n",
    "    elif params['loc_encode'] == 'encode_3D':\n",
    "        # X, Y, Z in 3D space\n",
    "        if concat_dim == 1:\n",
    "            cos_lon = torch.cos(math.pi*loc_ip[:, 0]).unsqueeze(-1)\n",
    "            sin_lon = torch.sin(math.pi*loc_ip[:, 0]).unsqueeze(-1)\n",
    "            cos_lat = torch.cos(math.pi*loc_ip[:, 1]).unsqueeze(-1)\n",
    "            sin_lat = torch.sin(math.pi*loc_ip[:, 1]).unsqueeze(-1)\n",
    "        if concat_dim == 2:\n",
    "            cos_lon = torch.cos(math.pi*loc_ip[:, :, 0]).unsqueeze(-1)\n",
    "            sin_lon = torch.sin(math.pi*loc_ip[:, :, 0]).unsqueeze(-1)\n",
    "            cos_lat = torch.cos(math.pi*loc_ip[:, :, 1]).unsqueeze(-1)\n",
    "            sin_lat = torch.sin(math.pi*loc_ip[:, :, 1]).unsqueeze(-1)\n",
    "        feats = torch.cat((cos_lon*cos_lat, sin_lon*cos_lat, sin_lat), concat_dim)\n",
    "\n",
    "    elif params['loc_encode'] == 'encode_none':\n",
    "        feats = loc_ip\n",
    "\n",
    "    else:\n",
    "        print('error - no loc feat type defined')\n",
    "\n",
    "\n",
    "    if params['use_date_feats']:\n",
    "        if params['date_encode'] == 'encode_cos_sin':\n",
    "            feats_date = torch.cat((torch.sin(math.pi*date_ip.unsqueeze(-1)),\n",
    "                                    torch.cos(math.pi*date_ip.unsqueeze(-1))), concat_dim)\n",
    "        elif params['date_encode'] == 'encode_none':\n",
    "            feats_date = date_ip.unsqueeze(-1)\n",
    "        else:\n",
    "            print('error - no date feat type defined')\n",
    "        feats = torch.cat((feats, feats_date), concat_dim)\n",
    "\n",
    "    return feats\n",
    "\n",
    "\n",
    "\n",
    "def convert_loc_to_tensor(x, device=None):\n",
    "    # intput is in lon {-180, 180}, lat {90, -90}\n",
    "    xt = x.astype(np.float32)\n",
    "    xt[:,0] /= 180.0\n",
    "    xt[:,1] /= 90.0\n",
    "    xt = torch.from_numpy(xt)\n",
    "    if device is not None:\n",
    "        xt = xt.to(device)\n",
    "    return xt"
   ]
  },
  {
   "cell_type": "code",
   "execution_count": 24,
   "metadata": {},
   "outputs": [],
   "source": [
    "def generate_feats(locs, dates):\n",
    "    x_locs = convert_loc_to_tensor(locs)\n",
    "    x_dates = torch.from_numpy(dates.astype(np.float32)*2 - 1)\n",
    "    feats = encode_loc_time(x_locs, x_dates, concat_dim=1, params=params)\n",
    "    return feats"
   ]
  },
  {
   "cell_type": "code",
   "execution_count": 25,
   "metadata": {},
   "outputs": [],
   "source": [
    "\n",
    "class CLIPDataset(torch.utils.data.Dataset):\n",
    "    \n",
    "    def default_loader(self, path):\n",
    "        image= path_to_image[path]\n",
    "        img = cv2.cvtColor(image, cv2.COLOR_BGR2RGB)\n",
    "        im_pil = Image.fromarray(img)\n",
    "    #     return Image.open(path).convert('RGB')\n",
    "        return im_pil\n",
    "    \n",
    "    def __init__(self, meta_data, tokenizer, transforms):\n",
    "        \"\"\"\n",
    "        image_filenames and cpations must have the same length; so, if there are\n",
    "        multiple captions for each image, the image_filenames must have repetitive\n",
    "        file names \n",
    "        \"\"\"\n",
    "        meta_type = 'ebird_meta'\n",
    "        \n",
    "        print('Loading annotations from: ' + os.path.basename(meta_data))\n",
    "        with open(meta_data) as fp:\n",
    "            da = json.load(fp)\n",
    "\n",
    "        # only choose images that are available - ie some missing from download\n",
    "        # also select the split of interest\n",
    "        da = [dd for dd in da['train'] if dd['valid_image'] and not math.isnan(dd['ebird_meta']['lat'])]\n",
    "\n",
    "        # set up the filenames and annotations\n",
    "        self.imgs = [dd['im_path'] for dd in da]\n",
    "        self.classes = [dd['class_id'] for dd in da]\n",
    "        self.users = [dd[meta_type]['user_id'] for dd in da]\n",
    "        self.dates = [dd[meta_type]['date'] for dd in da]\n",
    "        self.lon = [dd[meta_type]['lon'] for dd in da]\n",
    "        self.lat = [dd[meta_type]['lat'] for dd in da]\n",
    "        self.name = [imgpath_name(dd['im_path']) for dd in da]\n",
    "        \n",
    "        \n",
    "        lat = np.array(self.lat).reshape(-1,1)\n",
    "        lon = np.array(self.lon).reshape(-1,1)\n",
    "        dates = np.array(self.dates)\n",
    "        location = np.concatenate([lat,lon],axis=1)\n",
    "        self.feats = generate_feats(location,dates)\n",
    "        \n",
    "        \n",
    "        self.captions = [\"This is a photograph of \"+ x for x in self.name]\n",
    "        self.encoded_captions = tokenizer(\n",
    "            list(self.captions), padding=True, truncation=True, max_length=CFG.max_length\n",
    "        )\n",
    "        self.transforms = transforms\n",
    "\n",
    "    def __getitem__(self, idx):\n",
    "        item = {\n",
    "            key: torch.tensor(values[idx])\n",
    "            for key, values in self.encoded_captions.items()\n",
    "        }\n",
    "\n",
    "        image = path_to_image[self.imgs[idx]]\n",
    "        image = cv2.cvtColor(image, cv2.COLOR_BGR2RGB)\n",
    "        image = self.transforms(image=image)['image']\n",
    "        item['image'] = torch.tensor(image).permute(2, 0, 1).float()\n",
    "        item['caption'] = self.captions[idx]\n",
    "        item['lon'] = self.lon[idx]\n",
    "        item['lat'] = self.lat[idx]\n",
    "        item['dates'] = self.dates[idx]\n",
    "        item['lat_lon_date_feats'] = self.feats[idx]\n",
    "        item['class_id'] = self.classes[idx]\n",
    "\n",
    "        return item\n",
    "\n",
    "\n",
    "    def __len__(self):\n",
    "        return len(self.captions)\n",
    "\n",
    "\n",
    "\n",
    "def get_transforms(mode=\"train\"):\n",
    "    if mode == \"train\":\n",
    "        return A.Compose(\n",
    "            [\n",
    "                A.Resize(CFG.size, CFG.size, always_apply=True),\n",
    "                A.Normalize(max_pixel_value=255.0, always_apply=True),\n",
    "            ]\n",
    "        )\n",
    "    else:\n",
    "        return A.Compose(\n",
    "            [\n",
    "                A.Resize(CFG.size, CFG.size, always_apply=True),\n",
    "                A.Normalize(max_pixel_value=255.0, always_apply=True),\n",
    "            ]\n",
    "        )"
   ]
  },
  {
   "cell_type": "code",
   "execution_count": 26,
   "metadata": {
    "scrolled": true
   },
   "outputs": [
    {
     "name": "stdout",
     "output_type": "stream",
     "text": [
      "Loading annotations from: nabirds_with_loc_2019.json\n"
     ]
    }
   ],
   "source": [
    "tokenizer = DistilBertTokenizer.from_pretrained(CFG.text_tokenizer)\n",
    "dataset= CLIPDataset(meta_data, tokenizer,get_transforms())\n",
    "\n",
    "\n",
    "validation_split = .2\n",
    "shuffle_dataset = True\n",
    "random_seed= 42\n",
    "\n",
    "\n",
    "dataset_size = len(dataset)\n",
    "indices = list(range(dataset_size))\n",
    "split = int(np.floor(validation_split * dataset_size))\n",
    "if shuffle_dataset :\n",
    "    np.random.seed(random_seed)\n",
    "    np.random.shuffle(indices)\n",
    "train_indices, val_indices = indices[split:], indices[:split]\n",
    "\n",
    "# Creating PT data samplers and loaders:\n",
    "train_sampler = SubsetRandomSampler(train_indices)\n",
    "valid_sampler = SubsetRandomSampler(val_indices)\n",
    "\n",
    "\n",
    "train_loader = torch.utils.data.DataLoader(\n",
    "        dataset,\n",
    "        batch_size=CFG.batch_size,\n",
    "        num_workers=CFG.num_workers,\n",
    "        sampler=train_sampler\n",
    "    )\n",
    "valid_loader = torch.utils.data.DataLoader(\n",
    "        dataset,\n",
    "        batch_size=CFG.batch_size,\n",
    "        num_workers=CFG.num_workers,\n",
    "        sampler=valid_sampler\n",
    "    )"
   ]
  },
  {
   "cell_type": "markdown",
   "metadata": {},
   "source": [
    "# MODEL"
   ]
  },
  {
   "cell_type": "code",
   "execution_count": 27,
   "metadata": {},
   "outputs": [],
   "source": [
    "class ImageEncoder(nn.Module):\n",
    "    \"\"\"\n",
    "    Encode images to a fixed size vector\n",
    "    \"\"\"\n",
    "\n",
    "    def __init__(\n",
    "        self, model_name=CFG.model_name, pretrained=CFG.pretrained, trainable=CFG.trainable\n",
    "    ):\n",
    "        super().__init__()\n",
    "        self.model = timm.create_model(\n",
    "            model_name, pretrained, num_classes=0, global_pool=\"avg\"\n",
    "        )\n",
    "        for p in self.model.parameters():\n",
    "            p.requires_grad = trainable\n",
    "\n",
    "    def forward(self, x):\n",
    "        return self.model(x)"
   ]
  },
  {
   "cell_type": "code",
   "execution_count": 28,
   "metadata": {},
   "outputs": [],
   "source": [
    "class TextEncoder(nn.Module):\n",
    "    def __init__(self, model_name=CFG.text_encoder_model, pretrained=CFG.pretrained, trainable=CFG.trainable):\n",
    "        super().__init__()\n",
    "        if pretrained:\n",
    "            self.model = DistilBertModel.from_pretrained(model_name)\n",
    "        else:\n",
    "            self.model = DistilBertModel(config=DistilBertConfig())\n",
    "            \n",
    "        for p in self.model.parameters():\n",
    "            p.requires_grad = trainable\n",
    "\n",
    "        # we are using the CLS token hidden representation as the sentence's embedding\n",
    "        self.target_token_idx = 0\n",
    "\n",
    "    def forward(self, input_ids, attention_mask):\n",
    "        output = self.model(input_ids=input_ids, attention_mask=attention_mask)\n",
    "        last_hidden_state = output.last_hidden_state\n",
    "        return last_hidden_state[:, self.target_token_idx, :]"
   ]
  },
  {
   "cell_type": "code",
   "execution_count": 29,
   "metadata": {},
   "outputs": [],
   "source": [
    "class ResLayer(nn.Module):\n",
    "    def __init__(self, linear_size):\n",
    "        super(ResLayer, self).__init__()\n",
    "        self.l_size = linear_size\n",
    "        self.nonlin1 = nn.ReLU(inplace=True)\n",
    "        self.nonlin2 = nn.ReLU(inplace=True)\n",
    "        self.dropout1 = nn.Dropout()\n",
    "        self.w1 = nn.Linear(self.l_size, self.l_size)\n",
    "        self.w2 = nn.Linear(self.l_size, self.l_size)\n",
    "\n",
    "    def forward(self, x):\n",
    "        y = self.w1(x)\n",
    "        y = self.nonlin1(y)\n",
    "        y = self.dropout1(y)\n",
    "        y = self.w2(y)\n",
    "        y = self.nonlin2(y)\n",
    "        out = x + y\n",
    "\n",
    "        return out"
   ]
  },
  {
   "cell_type": "code",
   "execution_count": 30,
   "metadata": {},
   "outputs": [],
   "source": [
    "class MetaEncoder(nn.Module):\n",
    "    def __init__(self, num_inputs=6, num_classes=555, num_filts=256, num_users=1):\n",
    "        super(MetaEncoder, self).__init__()\n",
    "        self.inc_bias = False\n",
    "        self.class_emb = nn.Linear(num_filts, num_classes, bias=self.inc_bias)\n",
    "\n",
    "        self.feats = nn.Sequential(nn.Linear(num_inputs, num_filts),\n",
    "                                    nn.ReLU(inplace=True),\n",
    "                                    ResLayer(num_filts),\n",
    "                                    ResLayer(num_filts),\n",
    "                                    ResLayer(num_filts),\n",
    "                                    ResLayer(num_filts))\n",
    "\n",
    "    def forward(self, x, class_of_interest=None, return_feats=True):\n",
    "        loc_emb = self.feats(x)\n",
    "        if return_feats:\n",
    "            return loc_emb\n",
    "        if class_of_interest is None:\n",
    "            class_pred = self.class_emb(loc_emb)\n",
    "        else:\n",
    "            class_pred = self.eval_single_class(loc_emb, class_of_interest)\n",
    "\n",
    "        return torch.sigmoid(class_pred)\n",
    "\n",
    "    def eval_single_class(self, x, class_of_interest):\n",
    "        if self.inc_bias:\n",
    "            return torch.matmul(x, self.class_emb.weight[class_of_interest, :]) + self.class_emb.bias[class_of_interest]\n",
    "        else:\n",
    "            return torch.matmul(x, self.class_emb.weight[class_of_interest, :])\n"
   ]
  },
  {
   "cell_type": "code",
   "execution_count": 31,
   "metadata": {},
   "outputs": [],
   "source": [
    "class ProjectionHead(nn.Module):\n",
    "    def __init__(\n",
    "        self,\n",
    "        embedding_dim,\n",
    "        projection_dim=CFG.projection_dim,\n",
    "        dropout=CFG.dropout\n",
    "    ):\n",
    "        super().__init__()\n",
    "        self.projection = nn.Linear(embedding_dim, projection_dim)\n",
    "        self.gelu = nn.GELU()\n",
    "        self.fc = nn.Linear(projection_dim, projection_dim)\n",
    "        self.dropout = nn.Dropout(dropout)\n",
    "        self.layer_norm = nn.LayerNorm(projection_dim)\n",
    "    \n",
    "    def forward(self, x):\n",
    "        projected = self.projection(x)\n",
    "        x = self.gelu(projected)\n",
    "        x = self.fc(x)\n",
    "        x = self.dropout(x)\n",
    "        x = x + projected\n",
    "        x = self.layer_norm(x)\n",
    "        return x"
   ]
  },
  {
   "cell_type": "code",
   "execution_count": 32,
   "metadata": {},
   "outputs": [],
   "source": [
    "class CLIPModel(nn.Module):\n",
    "    def __init__(\n",
    "        self,\n",
    "        temperature=CFG.temperature,\n",
    "        image_embedding=CFG.image_embedding,\n",
    "        text_embedding=CFG.text_embedding,\n",
    "        meta_embedding=CFG.meta_embedding,\n",
    "    ):\n",
    "        super().__init__()\n",
    "        self.image_encoder = ImageEncoder()\n",
    "        self.text_encoder = TextEncoder()\n",
    "        self.meta_encoder= MetaEncoder()\n",
    "        self.image_projection = ProjectionHead(embedding_dim=image_embedding)\n",
    "        self.text_projection = ProjectionHead(embedding_dim=text_embedding)\n",
    "        self.meta_projection = ProjectionHead(embedding_dim=meta_embedding)\n",
    "        self.temperature = temperature\n",
    "\n",
    "    def forward(self, batch):\n",
    "        # Getting Image and Text Features\n",
    "        dic={}\n",
    "        image_features = self.image_encoder(batch[\"image\"])\n",
    "        text_features = self.text_encoder(\n",
    "            input_ids=batch[\"input_ids\"], attention_mask=batch[\"attention_mask\"]\n",
    "        )\n",
    "        meta_features = self.meta_encoder(batch['lat_lon_date_feats'])\n",
    "        # Getting Image and Text Embeddings (with same dimension)\n",
    "        image_embeddings = self.image_projection(image_features)\n",
    "        text_embeddings = self.text_projection(text_features)\n",
    "        meta_embeddings = self.meta_projection(meta_features)\n",
    "        \n",
    "        # Calculating the Loss\n",
    "        def contrastive_loss(embedding_1, embedding_2):\n",
    "            logits = (embedding_1 @ embedding_2.T) / self.temperature\n",
    "            images_similarity = embedding_2 @ embedding_2.T\n",
    "            texts_similarity = embedding_1 @ embedding_1.T\n",
    "            targets = F.softmax(\n",
    "                (images_similarity + texts_similarity) / 2 * self.temperature, dim=-1\n",
    "            )\n",
    "            texts_loss = cross_entropy(logits, targets, reduction='none')\n",
    "            images_loss = cross_entropy(logits.T, targets.T, reduction='none')\n",
    "            loss =  (images_loss + texts_loss) / 2.0 # shape: (batch_size)\n",
    "            \n",
    "            return loss\n",
    "        \n",
    "        loss_text_image = contrastive_loss(text_embeddings, image_embeddings)\n",
    "        loss_meta_image = contrastive_loss(meta_embeddings, image_embeddings)\n",
    "        loss_text_meta = contrastive_loss(text_embeddings, meta_embeddings)\n",
    "    \n",
    "        loss = loss_text_image +loss_meta_image +loss_text_meta\n",
    "        return loss.mean()\n",
    "\n",
    "\n",
    "def cross_entropy(preds, targets, reduction='none'):\n",
    "    log_softmax = nn.LogSoftmax(dim=-1)\n",
    "    loss = (-targets * log_softmax(preds)).sum(1)\n",
    "    if reduction == \"none\":\n",
    "        return loss\n",
    "    elif reduction == \"mean\":\n",
    "        return loss.mean()"
   ]
  },
  {
   "cell_type": "code",
   "execution_count": 19,
   "metadata": {},
   "outputs": [],
   "source": [
    "class AvgMeter:\n",
    "    def __init__(self, name=\"Metric\"):\n",
    "        self.name = name\n",
    "        self.reset()\n",
    "\n",
    "    def reset(self):\n",
    "        self.avg, self.sum, self.count = [0] * 3\n",
    "\n",
    "    def update(self, val, count=1):\n",
    "        self.count += count\n",
    "        self.sum += val * count\n",
    "        self.avg = self.sum / self.count\n",
    "\n",
    "    def __repr__(self):\n",
    "        text = f\"{self.name}: {self.avg:.4f}\"\n",
    "        return text\n",
    "\n",
    "def get_lr(optimizer):\n",
    "    for param_group in optimizer.param_groups:\n",
    "        return param_group[\"lr\"]\n"
   ]
  },
  {
   "cell_type": "markdown",
   "metadata": {},
   "source": [
    "# TRAIN"
   ]
  },
  {
   "cell_type": "code",
   "execution_count": 66,
   "metadata": {},
   "outputs": [],
   "source": [
    "def train_epoch(model, train_loader, optimizer, lr_scheduler, step):\n",
    "    loss_meter = AvgMeter()\n",
    "    tqdm_object = tqdm(train_loader, total=len(train_loader))\n",
    "    for batch in tqdm_object:\n",
    "        batch = {k: v.to(CFG.device) for k, v in batch.items() if k != \"caption\"}\n",
    "        loss = model(batch)\n",
    "        optimizer.zero_grad()\n",
    "        loss.backward()\n",
    "        optimizer.step()\n",
    "        if step == \"batch\":\n",
    "            lr_scheduler.step()\n",
    "\n",
    "        count = batch[\"image\"].size(0)\n",
    "        loss_meter.update(loss.item(), count)\n",
    "\n",
    "        tqdm_object.set_postfix(train_loss=loss_meter.avg, lr=get_lr(optimizer))\n",
    "    return loss_meter\n"
   ]
  },
  {
   "cell_type": "code",
   "execution_count": 71,
   "metadata": {},
   "outputs": [],
   "source": [
    "def valid_epoch(model, valid_loader):\n",
    "    loss_meter = AvgMeter()\n",
    "\n",
    "    tqdm_object = tqdm(valid_loader, total=len(valid_loader))\n",
    "    for batch in tqdm_object:\n",
    "        batch = {k: v.to(CFG.device) for k, v in batch.items() if k != \"caption\"}\n",
    "        loss = model(batch)\n",
    "        count = batch[\"image\"].to(CFG.device).size(0)\n",
    "        loss_meter.update(loss.item(), count)\n",
    "\n",
    "        tqdm_object.set_postfix(valid_loss=loss_meter.avg)\n",
    "    return loss_meter\n"
   ]
  },
  {
   "cell_type": "code",
   "execution_count": 30,
   "metadata": {},
   "outputs": [],
   "source": [
    "train_loss_list=[]\n",
    "val_loss_list=[]"
   ]
  },
  {
   "cell_type": "code",
   "execution_count": null,
   "metadata": {},
   "outputs": [
    {
     "name": "stderr",
     "output_type": "stream",
     "text": [
      "Some weights of the model checkpoint at distilbert-base-uncased were not used when initializing DistilBertModel: ['vocab_transform.bias', 'vocab_layer_norm.bias', 'vocab_layer_norm.weight', 'vocab_projector.bias', 'vocab_transform.weight', 'vocab_projector.weight']\n",
      "- This IS expected if you are initializing DistilBertModel from the checkpoint of a model trained on another task or with another architecture (e.g. initializing a BertForSequenceClassification model from a BertForPreTraining model).\n",
      "- This IS NOT expected if you are initializing DistilBertModel from the checkpoint of a model that you expect to be exactly identical (initializing a BertForSequenceClassification model from a BertForSequenceClassification model).\n"
     ]
    },
    {
     "name": "stdout",
     "output_type": "stream",
     "text": [
      "Epoch: 1\n"
     ]
    },
    {
     "name": "stderr",
     "output_type": "stream",
     "text": [
      "100%|██████████| 565/565 [01:40<00:00,  5.65it/s, lr=0.0001, train_loss=11.7]\n",
      "100%|██████████| 142/142 [00:19<00:00,  7.33it/s, valid_loss=10.3]\n"
     ]
    },
    {
     "name": "stdout",
     "output_type": "stream",
     "text": [
      "Saved Best Model!\n",
      "Epoch: 2\n"
     ]
    },
    {
     "name": "stderr",
     "output_type": "stream",
     "text": [
      "100%|██████████| 565/565 [01:39<00:00,  5.67it/s, lr=0.0001, train_loss=9.46]\n",
      "100%|██████████| 142/142 [00:19<00:00,  7.46it/s, valid_loss=8.65]\n"
     ]
    },
    {
     "name": "stdout",
     "output_type": "stream",
     "text": [
      "Saved Best Model!\n",
      "Epoch: 3\n"
     ]
    },
    {
     "name": "stderr",
     "output_type": "stream",
     "text": [
      "100%|██████████| 565/565 [01:40<00:00,  5.63it/s, lr=0.0001, train_loss=8.02]\n",
      "100%|██████████| 142/142 [00:20<00:00,  6.94it/s, valid_loss=7.3] \n"
     ]
    },
    {
     "name": "stdout",
     "output_type": "stream",
     "text": [
      "Saved Best Model!\n",
      "Epoch: 4\n"
     ]
    },
    {
     "name": "stderr",
     "output_type": "stream",
     "text": [
      "100%|██████████| 565/565 [01:39<00:00,  5.69it/s, lr=0.0001, train_loss=7.14]\n",
      "100%|██████████| 142/142 [00:19<00:00,  7.26it/s, valid_loss=6.86]\n"
     ]
    },
    {
     "name": "stdout",
     "output_type": "stream",
     "text": [
      "Saved Best Model!\n",
      "Epoch: 5\n"
     ]
    },
    {
     "name": "stderr",
     "output_type": "stream",
     "text": [
      "100%|██████████| 565/565 [01:39<00:00,  5.70it/s, lr=0.0001, train_loss=6.61]\n",
      "100%|██████████| 142/142 [00:19<00:00,  7.40it/s, valid_loss=6.62]\n"
     ]
    },
    {
     "name": "stdout",
     "output_type": "stream",
     "text": [
      "Saved Best Model!\n",
      "Epoch: 6\n"
     ]
    },
    {
     "name": "stderr",
     "output_type": "stream",
     "text": [
      "100%|██████████| 565/565 [01:39<00:00,  5.69it/s, lr=0.0001, train_loss=6.26]\n",
      "100%|██████████| 142/142 [00:19<00:00,  7.29it/s, valid_loss=6.54]\n"
     ]
    },
    {
     "name": "stdout",
     "output_type": "stream",
     "text": [
      "Saved Best Model!\n",
      "Epoch: 7\n"
     ]
    },
    {
     "name": "stderr",
     "output_type": "stream",
     "text": [
      "100%|██████████| 565/565 [01:39<00:00,  5.67it/s, lr=0.0001, train_loss=5.98]\n",
      "100%|██████████| 142/142 [00:19<00:00,  7.35it/s, valid_loss=6.55]\n"
     ]
    },
    {
     "name": "stdout",
     "output_type": "stream",
     "text": [
      "Epoch: 8\n"
     ]
    },
    {
     "name": "stderr",
     "output_type": "stream",
     "text": [
      "100%|██████████| 565/565 [01:39<00:00,  5.67it/s, lr=0.0001, train_loss=5.7] \n",
      "100%|██████████| 142/142 [00:19<00:00,  7.35it/s, valid_loss=6.65]\n"
     ]
    },
    {
     "name": "stdout",
     "output_type": "stream",
     "text": [
      "Epoch: 9\n"
     ]
    },
    {
     "name": "stderr",
     "output_type": "stream",
     "text": [
      "100%|██████████| 565/565 [01:39<00:00,  5.68it/s, lr=8e-5, train_loss=5.35]\n",
      "100%|██████████| 142/142 [00:19<00:00,  7.45it/s, valid_loss=6.71]\n"
     ]
    },
    {
     "name": "stdout",
     "output_type": "stream",
     "text": [
      "Epoch: 10\n"
     ]
    },
    {
     "name": "stderr",
     "output_type": "stream",
     "text": [
      "100%|██████████| 565/565 [01:39<00:00,  5.70it/s, lr=8e-5, train_loss=5.07]\n",
      "100%|██████████| 142/142 [00:19<00:00,  7.39it/s, valid_loss=6.98]\n"
     ]
    },
    {
     "name": "stdout",
     "output_type": "stream",
     "text": [
      "Epoch: 11\n"
     ]
    },
    {
     "name": "stderr",
     "output_type": "stream",
     "text": [
      "100%|██████████| 565/565 [01:39<00:00,  5.68it/s, lr=6.4e-5, train_loss=4.74]\n",
      "100%|██████████| 142/142 [00:19<00:00,  7.45it/s, valid_loss=7.14]\n"
     ]
    },
    {
     "name": "stdout",
     "output_type": "stream",
     "text": [
      "Epoch: 12\n"
     ]
    },
    {
     "name": "stderr",
     "output_type": "stream",
     "text": [
      "100%|██████████| 565/565 [01:39<00:00,  5.66it/s, lr=6.4e-5, train_loss=4.49]\n",
      "100%|██████████| 142/142 [00:19<00:00,  7.39it/s, valid_loss=7.54]\n"
     ]
    },
    {
     "name": "stdout",
     "output_type": "stream",
     "text": [
      "Epoch: 13\n"
     ]
    },
    {
     "name": "stderr",
     "output_type": "stream",
     "text": [
      "100%|██████████| 565/565 [01:39<00:00,  5.70it/s, lr=5.12e-5, train_loss=4.21]\n",
      "100%|██████████| 142/142 [00:19<00:00,  7.13it/s, valid_loss=7.88]\n"
     ]
    },
    {
     "name": "stdout",
     "output_type": "stream",
     "text": [
      "Epoch: 14\n"
     ]
    },
    {
     "name": "stderr",
     "output_type": "stream",
     "text": [
      "100%|██████████| 565/565 [01:39<00:00,  5.69it/s, lr=5.12e-5, train_loss=4.04]\n",
      "100%|██████████| 142/142 [00:19<00:00,  7.14it/s, valid_loss=8.24]\n"
     ]
    },
    {
     "name": "stdout",
     "output_type": "stream",
     "text": [
      "Epoch: 15\n"
     ]
    },
    {
     "name": "stderr",
     "output_type": "stream",
     "text": [
      "100%|██████████| 565/565 [01:38<00:00,  5.72it/s, lr=4.1e-5, train_loss=3.81]\n",
      "100%|██████████| 142/142 [00:19<00:00,  7.15it/s, valid_loss=8.71]\n"
     ]
    },
    {
     "name": "stdout",
     "output_type": "stream",
     "text": [
      "Epoch: 16\n"
     ]
    },
    {
     "name": "stderr",
     "output_type": "stream",
     "text": [
      "100%|██████████| 565/565 [01:39<00:00,  5.68it/s, lr=4.1e-5, train_loss=3.69]\n",
      "100%|██████████| 142/142 [00:19<00:00,  7.32it/s, valid_loss=8.79]\n"
     ]
    },
    {
     "name": "stdout",
     "output_type": "stream",
     "text": [
      "Epoch: 17\n"
     ]
    },
    {
     "name": "stderr",
     "output_type": "stream",
     "text": [
      "100%|██████████| 565/565 [01:39<00:00,  5.70it/s, lr=3.28e-5, train_loss=3.53]\n",
      "100%|██████████| 142/142 [00:19<00:00,  7.22it/s, valid_loss=9.35]\n"
     ]
    },
    {
     "name": "stdout",
     "output_type": "stream",
     "text": [
      "Epoch: 18\n"
     ]
    },
    {
     "name": "stderr",
     "output_type": "stream",
     "text": [
      "100%|██████████| 565/565 [01:39<00:00,  5.69it/s, lr=3.28e-5, train_loss=3.44]\n",
      "100%|██████████| 142/142 [00:19<00:00,  7.21it/s, valid_loss=9.54]\n"
     ]
    },
    {
     "name": "stdout",
     "output_type": "stream",
     "text": [
      "Epoch: 19\n"
     ]
    },
    {
     "name": "stderr",
     "output_type": "stream",
     "text": [
      "100%|██████████| 565/565 [01:39<00:00,  5.68it/s, lr=2.62e-5, train_loss=3.32]\n",
      "100%|██████████| 142/142 [00:19<00:00,  7.29it/s, valid_loss=9.86]\n"
     ]
    },
    {
     "name": "stdout",
     "output_type": "stream",
     "text": [
      "Epoch: 20\n"
     ]
    },
    {
     "name": "stderr",
     "output_type": "stream",
     "text": [
      "100%|██████████| 565/565 [01:39<00:00,  5.70it/s, lr=2.62e-5, train_loss=3.27]\n",
      "100%|██████████| 142/142 [00:19<00:00,  7.12it/s, valid_loss=9.88]\n"
     ]
    },
    {
     "name": "stdout",
     "output_type": "stream",
     "text": [
      "Epoch: 21\n"
     ]
    },
    {
     "name": "stderr",
     "output_type": "stream",
     "text": [
      "100%|██████████| 565/565 [01:38<00:00,  5.71it/s, lr=2.1e-5, train_loss=3.19]\n",
      "100%|██████████| 142/142 [00:19<00:00,  7.36it/s, valid_loss=10.3]\n"
     ]
    },
    {
     "name": "stdout",
     "output_type": "stream",
     "text": [
      "Epoch: 22\n"
     ]
    },
    {
     "name": "stderr",
     "output_type": "stream",
     "text": [
      "100%|██████████| 565/565 [01:39<00:00,  5.68it/s, lr=2.1e-5, train_loss=3.12]\n",
      "100%|██████████| 142/142 [00:19<00:00,  7.47it/s, valid_loss=10.6]\n"
     ]
    },
    {
     "name": "stdout",
     "output_type": "stream",
     "text": [
      "Epoch: 23\n"
     ]
    },
    {
     "name": "stderr",
     "output_type": "stream",
     "text": [
      "100%|██████████| 565/565 [01:39<00:00,  5.67it/s, lr=1.68e-5, train_loss=3.07]\n",
      "100%|██████████| 142/142 [00:19<00:00,  7.39it/s, valid_loss=11] \n"
     ]
    },
    {
     "name": "stdout",
     "output_type": "stream",
     "text": [
      "Epoch: 24\n"
     ]
    },
    {
     "name": "stderr",
     "output_type": "stream",
     "text": [
      "100%|██████████| 565/565 [01:39<00:00,  5.66it/s, lr=1.68e-5, train_loss=3.03]\n",
      "100%|██████████| 142/142 [00:19<00:00,  7.31it/s, valid_loss=11]  \n"
     ]
    },
    {
     "name": "stdout",
     "output_type": "stream",
     "text": [
      "Epoch: 25\n"
     ]
    },
    {
     "name": "stderr",
     "output_type": "stream",
     "text": [
      "100%|██████████| 565/565 [01:39<00:00,  5.69it/s, lr=1.34e-5, train_loss=2.99]\n",
      "100%|██████████| 142/142 [00:19<00:00,  7.30it/s, valid_loss=11.1]\n"
     ]
    },
    {
     "name": "stdout",
     "output_type": "stream",
     "text": [
      "Epoch: 26\n"
     ]
    },
    {
     "name": "stderr",
     "output_type": "stream",
     "text": [
      "100%|██████████| 565/565 [01:39<00:00,  5.67it/s, lr=1.34e-5, train_loss=2.97]\n",
      "100%|██████████| 142/142 [00:19<00:00,  7.46it/s, valid_loss=11.3]\n"
     ]
    },
    {
     "name": "stdout",
     "output_type": "stream",
     "text": [
      "Epoch: 27\n"
     ]
    },
    {
     "name": "stderr",
     "output_type": "stream",
     "text": [
      "100%|██████████| 565/565 [01:39<00:00,  5.68it/s, lr=1.07e-5, train_loss=2.93]\n",
      "100%|██████████| 142/142 [00:19<00:00,  7.29it/s, valid_loss=11.3]\n"
     ]
    },
    {
     "name": "stdout",
     "output_type": "stream",
     "text": [
      "Epoch: 28\n"
     ]
    },
    {
     "name": "stderr",
     "output_type": "stream",
     "text": [
      "100%|██████████| 565/565 [01:39<00:00,  5.70it/s, lr=1.07e-5, train_loss=2.89]\n",
      "100%|██████████| 142/142 [00:19<00:00,  7.38it/s, valid_loss=11.4]\n"
     ]
    },
    {
     "name": "stdout",
     "output_type": "stream",
     "text": [
      "Epoch: 29\n"
     ]
    },
    {
     "name": "stderr",
     "output_type": "stream",
     "text": [
      "100%|██████████| 565/565 [01:39<00:00,  5.70it/s, lr=8.59e-6, train_loss=2.89]\n",
      "100%|██████████| 142/142 [00:19<00:00,  7.42it/s, valid_loss=11.6]\n"
     ]
    },
    {
     "name": "stdout",
     "output_type": "stream",
     "text": [
      "Epoch: 30\n"
     ]
    },
    {
     "name": "stderr",
     "output_type": "stream",
     "text": [
      "100%|██████████| 565/565 [01:39<00:00,  5.67it/s, lr=8.59e-6, train_loss=2.86]\n",
      "100%|██████████| 142/142 [00:19<00:00,  7.27it/s, valid_loss=11.7]\n"
     ]
    },
    {
     "name": "stdout",
     "output_type": "stream",
     "text": [
      "Epoch: 31\n"
     ]
    },
    {
     "name": "stderr",
     "output_type": "stream",
     "text": [
      "100%|██████████| 565/565 [01:39<00:00,  5.68it/s, lr=6.87e-6, train_loss=2.84]\n",
      "100%|██████████| 142/142 [00:19<00:00,  7.24it/s, valid_loss=11.8]\n"
     ]
    },
    {
     "name": "stdout",
     "output_type": "stream",
     "text": [
      "Epoch: 32\n"
     ]
    },
    {
     "name": "stderr",
     "output_type": "stream",
     "text": [
      "100%|██████████| 565/565 [01:39<00:00,  5.69it/s, lr=6.87e-6, train_loss=2.83]\n",
      "100%|██████████| 142/142 [00:20<00:00,  7.10it/s, valid_loss=11.9]\n"
     ]
    },
    {
     "name": "stdout",
     "output_type": "stream",
     "text": [
      "Epoch: 33\n"
     ]
    },
    {
     "name": "stderr",
     "output_type": "stream",
     "text": [
      "100%|██████████| 565/565 [01:39<00:00,  5.65it/s, lr=5.5e-6, train_loss=2.8] \n",
      "100%|██████████| 142/142 [00:19<00:00,  7.40it/s, valid_loss=11.9]\n"
     ]
    },
    {
     "name": "stdout",
     "output_type": "stream",
     "text": [
      "Epoch: 34\n"
     ]
    },
    {
     "name": "stderr",
     "output_type": "stream",
     "text": [
      "100%|██████████| 565/565 [01:40<00:00,  5.64it/s, lr=5.5e-6, train_loss=2.78]\n",
      "100%|██████████| 142/142 [00:19<00:00,  7.32it/s, valid_loss=12]  \n"
     ]
    },
    {
     "name": "stdout",
     "output_type": "stream",
     "text": [
      "Epoch: 35\n"
     ]
    },
    {
     "name": "stderr",
     "output_type": "stream",
     "text": [
      "100%|██████████| 565/565 [01:39<00:00,  5.68it/s, lr=4.4e-6, train_loss=2.77]\n",
      "100%|██████████| 142/142 [00:19<00:00,  7.39it/s, valid_loss=12.2]\n"
     ]
    },
    {
     "name": "stdout",
     "output_type": "stream",
     "text": [
      "Epoch: 36\n"
     ]
    },
    {
     "name": "stderr",
     "output_type": "stream",
     "text": [
      "100%|██████████| 565/565 [01:39<00:00,  5.67it/s, lr=4.4e-6, train_loss=2.77]\n",
      "100%|██████████| 142/142 [00:19<00:00,  7.41it/s, valid_loss=12.2]\n"
     ]
    },
    {
     "name": "stdout",
     "output_type": "stream",
     "text": [
      "Epoch: 37\n"
     ]
    },
    {
     "name": "stderr",
     "output_type": "stream",
     "text": [
      "100%|██████████| 565/565 [01:39<00:00,  5.69it/s, lr=3.52e-6, train_loss=2.75]\n",
      "100%|██████████| 142/142 [00:19<00:00,  7.36it/s, valid_loss=12.3]\n"
     ]
    },
    {
     "name": "stdout",
     "output_type": "stream",
     "text": [
      "Epoch: 38\n"
     ]
    },
    {
     "name": "stderr",
     "output_type": "stream",
     "text": [
      "100%|██████████| 565/565 [01:40<00:00,  5.63it/s, lr=3.52e-6, train_loss=2.75]\n",
      "100%|██████████| 142/142 [00:19<00:00,  7.23it/s, valid_loss=12.4]\n"
     ]
    },
    {
     "name": "stdout",
     "output_type": "stream",
     "text": [
      "Epoch: 39\n"
     ]
    },
    {
     "name": "stderr",
     "output_type": "stream",
     "text": [
      "100%|██████████| 565/565 [01:40<00:00,  5.65it/s, lr=2.81e-6, train_loss=2.76]\n",
      "100%|██████████| 142/142 [00:19<00:00,  7.44it/s, valid_loss=12.3]\n"
     ]
    },
    {
     "name": "stdout",
     "output_type": "stream",
     "text": [
      "Epoch: 40\n"
     ]
    },
    {
     "name": "stderr",
     "output_type": "stream",
     "text": [
      "100%|██████████| 565/565 [01:40<00:00,  5.64it/s, lr=2.81e-6, train_loss=2.74]\n",
      "100%|██████████| 142/142 [00:19<00:00,  7.29it/s, valid_loss=12.4]\n"
     ]
    },
    {
     "name": "stdout",
     "output_type": "stream",
     "text": [
      "Epoch: 41\n"
     ]
    },
    {
     "name": "stderr",
     "output_type": "stream",
     "text": [
      "100%|██████████| 565/565 [01:39<00:00,  5.68it/s, lr=2.25e-6, train_loss=2.73]\n",
      "100%|██████████| 142/142 [00:19<00:00,  7.35it/s, valid_loss=12.5]\n"
     ]
    },
    {
     "name": "stdout",
     "output_type": "stream",
     "text": [
      "Epoch: 42\n"
     ]
    },
    {
     "name": "stderr",
     "output_type": "stream",
     "text": [
      "100%|██████████| 565/565 [01:39<00:00,  5.69it/s, lr=2.25e-6, train_loss=2.73]\n",
      "100%|██████████| 142/142 [00:19<00:00,  7.24it/s, valid_loss=12.4]\n"
     ]
    },
    {
     "name": "stdout",
     "output_type": "stream",
     "text": [
      "Epoch: 43\n"
     ]
    },
    {
     "name": "stderr",
     "output_type": "stream",
     "text": [
      "100%|██████████| 565/565 [01:39<00:00,  5.67it/s, lr=1.8e-6, train_loss=2.72]\n",
      "100%|██████████| 142/142 [00:19<00:00,  7.36it/s, valid_loss=12.5]\n"
     ]
    },
    {
     "name": "stdout",
     "output_type": "stream",
     "text": [
      "Epoch: 44\n"
     ]
    },
    {
     "name": "stderr",
     "output_type": "stream",
     "text": [
      "100%|██████████| 565/565 [01:40<00:00,  5.65it/s, lr=1.8e-6, train_loss=2.72]\n",
      "100%|██████████| 142/142 [00:20<00:00,  7.05it/s, valid_loss=12.5]\n"
     ]
    },
    {
     "name": "stdout",
     "output_type": "stream",
     "text": [
      "Epoch: 45\n"
     ]
    },
    {
     "name": "stderr",
     "output_type": "stream",
     "text": [
      "100%|██████████| 565/565 [01:39<00:00,  5.68it/s, lr=1.44e-6, train_loss=2.71]\n",
      "100%|██████████| 142/142 [00:19<00:00,  7.13it/s, valid_loss=12.5]\n"
     ]
    },
    {
     "name": "stdout",
     "output_type": "stream",
     "text": [
      "Epoch: 46\n"
     ]
    },
    {
     "name": "stderr",
     "output_type": "stream",
     "text": [
      "100%|██████████| 565/565 [01:40<00:00,  5.64it/s, lr=1.44e-6, train_loss=2.71]\n",
      "100%|██████████| 142/142 [00:19<00:00,  7.31it/s, valid_loss=12.5]\n"
     ]
    },
    {
     "name": "stdout",
     "output_type": "stream",
     "text": [
      "Epoch: 47\n"
     ]
    },
    {
     "name": "stderr",
     "output_type": "stream",
     "text": [
      "100%|██████████| 565/565 [01:39<00:00,  5.67it/s, lr=1.15e-6, train_loss=2.7] \n",
      "100%|██████████| 142/142 [00:20<00:00,  6.95it/s, valid_loss=12.6]\n"
     ]
    },
    {
     "name": "stdout",
     "output_type": "stream",
     "text": [
      "Epoch: 48\n"
     ]
    },
    {
     "name": "stderr",
     "output_type": "stream",
     "text": [
      "100%|██████████| 565/565 [01:39<00:00,  5.65it/s, lr=1.15e-6, train_loss=2.72]\n",
      "100%|██████████| 142/142 [00:18<00:00,  7.53it/s, valid_loss=12.5]\n"
     ]
    },
    {
     "name": "stdout",
     "output_type": "stream",
     "text": [
      "Epoch: 49\n"
     ]
    },
    {
     "name": "stderr",
     "output_type": "stream",
     "text": [
      "100%|██████████| 565/565 [01:39<00:00,  5.66it/s, lr=9.22e-7, train_loss=2.7] \n",
      "100%|██████████| 142/142 [00:19<00:00,  7.18it/s, valid_loss=12.5]\n"
     ]
    },
    {
     "name": "stdout",
     "output_type": "stream",
     "text": [
      "Epoch: 50\n"
     ]
    },
    {
     "name": "stderr",
     "output_type": "stream",
     "text": [
      "100%|██████████| 565/565 [01:40<00:00,  5.64it/s, lr=9.22e-7, train_loss=2.7] \n",
      "100%|██████████| 142/142 [00:19<00:00,  7.28it/s, valid_loss=12.6]\n"
     ]
    },
    {
     "name": "stdout",
     "output_type": "stream",
     "text": [
      "Epoch: 51\n"
     ]
    },
    {
     "name": "stderr",
     "output_type": "stream",
     "text": [
      "100%|██████████| 565/565 [01:39<00:00,  5.65it/s, lr=7.38e-7, train_loss=2.7] \n",
      "100%|██████████| 142/142 [00:19<00:00,  7.36it/s, valid_loss=12.6]\n"
     ]
    },
    {
     "name": "stdout",
     "output_type": "stream",
     "text": [
      "Epoch: 52\n"
     ]
    },
    {
     "name": "stderr",
     "output_type": "stream",
     "text": [
      "100%|██████████| 565/565 [01:39<00:00,  5.66it/s, lr=7.38e-7, train_loss=2.7] \n",
      "100%|██████████| 142/142 [00:19<00:00,  7.41it/s, valid_loss=12.6]\n"
     ]
    },
    {
     "name": "stdout",
     "output_type": "stream",
     "text": [
      "Epoch: 53\n"
     ]
    },
    {
     "name": "stderr",
     "output_type": "stream",
     "text": [
      "100%|██████████| 565/565 [01:39<00:00,  5.66it/s, lr=5.9e-7, train_loss=2.7] \n",
      "100%|██████████| 142/142 [00:19<00:00,  7.17it/s, valid_loss=12.6]\n"
     ]
    },
    {
     "name": "stdout",
     "output_type": "stream",
     "text": [
      "Epoch: 54\n"
     ]
    },
    {
     "name": "stderr",
     "output_type": "stream",
     "text": [
      "100%|██████████| 565/565 [01:39<00:00,  5.66it/s, lr=5.9e-7, train_loss=2.7] \n",
      "100%|██████████| 142/142 [00:19<00:00,  7.27it/s, valid_loss=12.6]\n"
     ]
    },
    {
     "name": "stdout",
     "output_type": "stream",
     "text": [
      "Epoch: 55\n"
     ]
    },
    {
     "name": "stderr",
     "output_type": "stream",
     "text": [
      "100%|██████████| 565/565 [01:39<00:00,  5.68it/s, lr=4.72e-7, train_loss=2.69]\n",
      "100%|██████████| 142/142 [00:19<00:00,  7.27it/s, valid_loss=12.7]\n"
     ]
    },
    {
     "name": "stdout",
     "output_type": "stream",
     "text": [
      "Epoch: 56\n"
     ]
    },
    {
     "name": "stderr",
     "output_type": "stream",
     "text": [
      "100%|██████████| 565/565 [01:39<00:00,  5.68it/s, lr=4.72e-7, train_loss=2.7] \n",
      "100%|██████████| 142/142 [00:19<00:00,  7.23it/s, valid_loss=12.6]\n"
     ]
    },
    {
     "name": "stdout",
     "output_type": "stream",
     "text": [
      "Epoch: 57\n"
     ]
    },
    {
     "name": "stderr",
     "output_type": "stream",
     "text": [
      "100%|██████████| 565/565 [01:39<00:00,  5.69it/s, lr=3.78e-7, train_loss=2.67]\n",
      "100%|██████████| 142/142 [00:19<00:00,  7.28it/s, valid_loss=12.6]\n"
     ]
    },
    {
     "name": "stdout",
     "output_type": "stream",
     "text": [
      "Epoch: 58\n"
     ]
    },
    {
     "name": "stderr",
     "output_type": "stream",
     "text": [
      "100%|██████████| 565/565 [01:39<00:00,  5.70it/s, lr=3.78e-7, train_loss=2.67]\n",
      "100%|██████████| 142/142 [00:19<00:00,  7.38it/s, valid_loss=12.6]\n"
     ]
    },
    {
     "name": "stdout",
     "output_type": "stream",
     "text": [
      "Epoch: 59\n"
     ]
    },
    {
     "name": "stderr",
     "output_type": "stream",
     "text": [
      "100%|██████████| 565/565 [01:39<00:00,  5.66it/s, lr=3.02e-7, train_loss=2.7] \n",
      "100%|██████████| 142/142 [00:19<00:00,  7.26it/s, valid_loss=12.7]\n"
     ]
    },
    {
     "name": "stdout",
     "output_type": "stream",
     "text": [
      "Epoch: 60\n"
     ]
    },
    {
     "name": "stderr",
     "output_type": "stream",
     "text": [
      "100%|██████████| 565/565 [01:39<00:00,  5.70it/s, lr=3.02e-7, train_loss=2.68]\n",
      "100%|██████████| 142/142 [00:19<00:00,  7.25it/s, valid_loss=12.7]\n"
     ]
    },
    {
     "name": "stdout",
     "output_type": "stream",
     "text": [
      "Epoch: 61\n"
     ]
    },
    {
     "name": "stderr",
     "output_type": "stream",
     "text": [
      "100%|██████████| 565/565 [01:39<00:00,  5.65it/s, lr=2.42e-7, train_loss=2.7] \n",
      "100%|██████████| 142/142 [00:19<00:00,  7.18it/s, valid_loss=12.7]\n"
     ]
    },
    {
     "name": "stdout",
     "output_type": "stream",
     "text": [
      "Epoch: 62\n"
     ]
    },
    {
     "name": "stderr",
     "output_type": "stream",
     "text": [
      "100%|██████████| 565/565 [01:39<00:00,  5.66it/s, lr=2.42e-7, train_loss=2.69]\n",
      "100%|██████████| 142/142 [00:19<00:00,  7.37it/s, valid_loss=12.6]\n"
     ]
    },
    {
     "name": "stdout",
     "output_type": "stream",
     "text": [
      "Epoch: 63\n"
     ]
    },
    {
     "name": "stderr",
     "output_type": "stream",
     "text": [
      "100%|██████████| 565/565 [01:39<00:00,  5.69it/s, lr=1.93e-7, train_loss=2.69]\n",
      "100%|██████████| 142/142 [00:19<00:00,  7.21it/s, valid_loss=12.7]\n"
     ]
    },
    {
     "name": "stdout",
     "output_type": "stream",
     "text": [
      "Epoch: 64\n"
     ]
    },
    {
     "name": "stderr",
     "output_type": "stream",
     "text": [
      "100%|██████████| 565/565 [01:38<00:00,  5.71it/s, lr=1.93e-7, train_loss=2.69]\n",
      "100%|██████████| 142/142 [00:19<00:00,  7.21it/s, valid_loss=12.7]\n"
     ]
    },
    {
     "name": "stdout",
     "output_type": "stream",
     "text": [
      "Epoch: 65\n"
     ]
    },
    {
     "name": "stderr",
     "output_type": "stream",
     "text": [
      "100%|██████████| 565/565 [01:39<00:00,  5.67it/s, lr=1.55e-7, train_loss=2.68]\n",
      "100%|██████████| 142/142 [00:19<00:00,  7.27it/s, valid_loss=12.7]\n"
     ]
    },
    {
     "name": "stdout",
     "output_type": "stream",
     "text": [
      "Epoch: 66\n"
     ]
    },
    {
     "name": "stderr",
     "output_type": "stream",
     "text": [
      "100%|██████████| 565/565 [01:40<00:00,  5.63it/s, lr=1.55e-7, train_loss=2.68]\n",
      "100%|██████████| 142/142 [00:19<00:00,  7.20it/s, valid_loss=12.7]\n"
     ]
    },
    {
     "name": "stdout",
     "output_type": "stream",
     "text": [
      "Epoch: 67\n"
     ]
    },
    {
     "name": "stderr",
     "output_type": "stream",
     "text": [
      "100%|██████████| 565/565 [01:39<00:00,  5.66it/s, lr=1.24e-7, train_loss=2.68]\n",
      "100%|██████████| 142/142 [00:19<00:00,  7.26it/s, valid_loss=12.6]\n"
     ]
    },
    {
     "name": "stdout",
     "output_type": "stream",
     "text": [
      "Epoch: 68\n"
     ]
    },
    {
     "name": "stderr",
     "output_type": "stream",
     "text": [
      "100%|██████████| 565/565 [01:39<00:00,  5.67it/s, lr=1.24e-7, train_loss=2.68]\n",
      "100%|██████████| 142/142 [00:19<00:00,  7.31it/s, valid_loss=12.7]\n"
     ]
    },
    {
     "name": "stdout",
     "output_type": "stream",
     "text": [
      "Epoch: 69\n"
     ]
    },
    {
     "name": "stderr",
     "output_type": "stream",
     "text": [
      "100%|██████████| 565/565 [01:39<00:00,  5.67it/s, lr=9.9e-8, train_loss=2.7] \n",
      "100%|██████████| 142/142 [00:19<00:00,  7.13it/s, valid_loss=12.7]\n"
     ]
    },
    {
     "name": "stdout",
     "output_type": "stream",
     "text": [
      "Epoch: 70\n"
     ]
    },
    {
     "name": "stderr",
     "output_type": "stream",
     "text": [
      "100%|██████████| 565/565 [01:40<00:00,  5.62it/s, lr=9.9e-8, train_loss=2.69]\n",
      "100%|██████████| 142/142 [00:19<00:00,  7.34it/s, valid_loss=12.7]\n"
     ]
    },
    {
     "name": "stdout",
     "output_type": "stream",
     "text": [
      "Epoch: 71\n"
     ]
    },
    {
     "name": "stderr",
     "output_type": "stream",
     "text": [
      "100%|██████████| 565/565 [01:39<00:00,  5.70it/s, lr=7.92e-8, train_loss=2.69]\n",
      "100%|██████████| 142/142 [00:18<00:00,  7.55it/s, valid_loss=12.7]\n"
     ]
    },
    {
     "name": "stdout",
     "output_type": "stream",
     "text": [
      "Epoch: 72\n"
     ]
    },
    {
     "name": "stderr",
     "output_type": "stream",
     "text": [
      "100%|██████████| 565/565 [01:38<00:00,  5.72it/s, lr=7.92e-8, train_loss=2.67]\n",
      "100%|██████████| 142/142 [00:18<00:00,  7.52it/s, valid_loss=12.7]\n"
     ]
    },
    {
     "name": "stdout",
     "output_type": "stream",
     "text": [
      "Epoch: 73\n"
     ]
    },
    {
     "name": "stderr",
     "output_type": "stream",
     "text": [
      "100%|██████████| 565/565 [01:38<00:00,  5.72it/s, lr=6.34e-8, train_loss=2.69]\n",
      "100%|██████████| 142/142 [00:19<00:00,  7.26it/s, valid_loss=12.7]\n"
     ]
    },
    {
     "name": "stdout",
     "output_type": "stream",
     "text": [
      "Epoch: 74\n"
     ]
    },
    {
     "name": "stderr",
     "output_type": "stream",
     "text": [
      "100%|██████████| 565/565 [01:40<00:00,  5.65it/s, lr=6.34e-8, train_loss=2.68]\n",
      "100%|██████████| 142/142 [00:20<00:00,  6.97it/s, valid_loss=12.7]\n"
     ]
    },
    {
     "name": "stdout",
     "output_type": "stream",
     "text": [
      "Epoch: 75\n"
     ]
    },
    {
     "name": "stderr",
     "output_type": "stream",
     "text": [
      "100%|██████████| 565/565 [01:39<00:00,  5.66it/s, lr=5.07e-8, train_loss=2.69]\n",
      "100%|██████████| 142/142 [00:19<00:00,  7.32it/s, valid_loss=12.7]\n"
     ]
    },
    {
     "name": "stdout",
     "output_type": "stream",
     "text": [
      "Epoch: 76\n"
     ]
    },
    {
     "name": "stderr",
     "output_type": "stream",
     "text": [
      "100%|██████████| 565/565 [01:39<00:00,  5.65it/s, lr=5.07e-8, train_loss=2.68]\n",
      "100%|██████████| 142/142 [00:19<00:00,  7.18it/s, valid_loss=12.7]\n"
     ]
    },
    {
     "name": "stdout",
     "output_type": "stream",
     "text": [
      "Epoch: 77\n"
     ]
    },
    {
     "name": "stderr",
     "output_type": "stream",
     "text": [
      "100%|██████████| 565/565 [01:39<00:00,  5.66it/s, lr=4.06e-8, train_loss=2.69]\n",
      "100%|██████████| 142/142 [00:19<00:00,  7.26it/s, valid_loss=12.7]\n"
     ]
    },
    {
     "name": "stdout",
     "output_type": "stream",
     "text": [
      "Epoch: 78\n"
     ]
    },
    {
     "name": "stderr",
     "output_type": "stream",
     "text": [
      "100%|██████████| 565/565 [01:40<00:00,  5.63it/s, lr=4.06e-8, train_loss=2.68]\n",
      "100%|██████████| 142/142 [00:19<00:00,  7.25it/s, valid_loss=12.7]\n"
     ]
    },
    {
     "name": "stdout",
     "output_type": "stream",
     "text": [
      "Epoch: 79\n"
     ]
    },
    {
     "name": "stderr",
     "output_type": "stream",
     "text": [
      "100%|██████████| 565/565 [01:40<00:00,  5.62it/s, lr=4.06e-8, train_loss=2.67]\n",
      "100%|██████████| 142/142 [00:19<00:00,  7.16it/s, valid_loss=12.7]\n"
     ]
    },
    {
     "name": "stdout",
     "output_type": "stream",
     "text": [
      "Epoch: 80\n"
     ]
    },
    {
     "name": "stderr",
     "output_type": "stream",
     "text": [
      " 93%|█████████▎| 526/565 [01:32<00:06,  6.03it/s, lr=4.06e-8, train_loss=2.69]"
     ]
    }
   ],
   "source": [
    "model = CLIPModel().to(CFG.device)\n",
    "params = [\n",
    "    {\"params\": model.image_encoder.parameters(), \"lr\": CFG.image_encoder_lr},\n",
    "    {\"params\": model.text_encoder.parameters(), \"lr\": CFG.text_encoder_lr},\n",
    "    {\"params\": model.meta_encoder.parameters(), \"lr\": CFG.meta_encoder_lr},\n",
    "    {\"params\": itertools.chain(\n",
    "        model.image_projection.parameters(), model.text_projection.parameters() , model.meta_projection.parameters()\n",
    "    ), \"lr\": CFG.head_lr, \"weight_decay\": CFG.weight_decay}\n",
    "]\n",
    "optimizer = torch.optim.AdamW(params, weight_decay=0.)\n",
    "lr_scheduler = torch.optim.lr_scheduler.ReduceLROnPlateau(\n",
    "    optimizer, mode=\"min\", patience=CFG.patience, factor=CFG.factor\n",
    ")\n",
    "step = \"epoch\"\n",
    "\n",
    "best_loss = float('inf')\n",
    "for epoch in range(CFG.epochs):\n",
    "    print(f\"Epoch: {epoch + 1}\")\n",
    "    model.train()\n",
    "    train_loss = train_epoch(model, train_loader, optimizer, lr_scheduler, step)\n",
    "    train_loss_list.append(train_loss.avg)\n",
    "    model.eval()\n",
    "    with torch.no_grad():\n",
    "        valid_loss = valid_epoch(model, valid_loader)\n",
    "        val_loss_list.append(valid_loss.avg)\n",
    "    if valid_loss.avg < best_loss:\n",
    "        best_loss = valid_loss.avg\n",
    "        torch.save(model.state_dict(), \"best.pt\")\n",
    "        print(\"Saved Best Model!\")\n",
    "\n",
    "    lr_scheduler.step(valid_loss.avg)"
   ]
  },
  {
   "cell_type": "code",
   "execution_count": null,
   "metadata": {},
   "outputs": [],
   "source": [
    "print(train_loss_list , val_loss_list)"
   ]
  },
  {
   "cell_type": "code",
   "execution_count": null,
   "metadata": {},
   "outputs": [],
   "source": [
    "epoch_list=[i for i in range(len(train_loss_list))]"
   ]
  },
  {
   "cell_type": "code",
   "execution_count": null,
   "metadata": {},
   "outputs": [],
   "source": [
    "import matplotlib.pyplot as plt\n",
    "plt.plot(epoch_list, train_loss_list)\n",
    "plt.plot(epoch_list, val_loss_list)\n",
    "plt.show()"
   ]
  },
  {
   "cell_type": "markdown",
   "metadata": {},
   "source": [
    "# Finetuned Model Training Code"
   ]
  },
  {
   "cell_type": "code",
   "execution_count": 34,
   "metadata": {
    "scrolled": true
   },
   "outputs": [
    {
     "name": "stderr",
     "output_type": "stream",
     "text": [
      "Some weights of the model checkpoint at distilbert-base-uncased were not used when initializing DistilBertModel: ['vocab_layer_norm.bias', 'vocab_projector.bias', 'vocab_projector.weight', 'vocab_layer_norm.weight', 'vocab_transform.bias', 'vocab_transform.weight']\n",
      "- This IS expected if you are initializing DistilBertModel from the checkpoint of a model trained on another task or with another architecture (e.g. initializing a BertForSequenceClassification model from a BertForPreTraining model).\n",
      "- This IS NOT expected if you are initializing DistilBertModel from the checkpoint of a model that you expect to be exactly identical (initializing a BertForSequenceClassification model from a BertForSequenceClassification model).\n"
     ]
    },
    {
     "data": {
      "text/plain": [
       "<All keys matched successfully>"
      ]
     },
     "execution_count": 34,
     "metadata": {},
     "output_type": "execute_result"
    }
   ],
   "source": [
    "\n"
   ]
  },
  {
   "cell_type": "code",
   "execution_count": 59,
   "metadata": {},
   "outputs": [],
   "source": [
    "class CLIPModel(nn.Module):\n",
    "    def __init__(\n",
    "        self,\n",
    "        temperature=CFG.temperature,\n",
    "        image_embedding=CFG.image_embedding,\n",
    "        text_embedding=CFG.text_embedding,\n",
    "        meta_embedding=CFG.meta_embedding,\n",
    "    ):\n",
    "        super().__init__()\n",
    "        self.image_encoder = ImageEncoder()\n",
    "        self.text_encoder = TextEncoder()\n",
    "        self.meta_encoder= MetaEncoder()\n",
    "        self.image_projection = ProjectionHead(embedding_dim=image_embedding)\n",
    "        self.text_projection = ProjectionHead(embedding_dim=text_embedding)\n",
    "        self.meta_projection = ProjectionHead(embedding_dim=meta_embedding)\n",
    "        self.temperature = temperature\n",
    "\n",
    "    def forward(self, batch):\n",
    "        # Getting Image and Text Features\n",
    "        dic={}\n",
    "        image_features = self.image_encoder(batch[\"image\"])\n",
    "        text_features = self.text_encoder(\n",
    "            input_ids=batch[\"input_ids\"], attention_mask=batch[\"attention_mask\"]\n",
    "        )\n",
    "        meta_features = self.meta_encoder(batch['lat_lon_date_feats'])\n",
    "        # Getting Image and Text Embeddings (with same dimension)\n",
    "        image_embeddings = self.image_projection(image_features)\n",
    "        text_embeddings = self.text_projection(text_features)\n",
    "        meta_embeddings = self.meta_projection(meta_features)\n",
    "        \n",
    "        # Calculating the Loss\n",
    "        def contrastive_loss(embedding_1, embedding_2):\n",
    "            logits = (embedding_1 @ embedding_2.T) / self.temperature\n",
    "            images_similarity = embedding_2 @ embedding_2.T\n",
    "            texts_similarity = embedding_1 @ embedding_1.T\n",
    "            targets = F.softmax(\n",
    "                (images_similarity + texts_similarity) / 2 * self.temperature, dim=-1\n",
    "            )\n",
    "            texts_loss = cross_entropy(logits, targets, reduction='none')\n",
    "            images_loss = cross_entropy(logits.T, targets.T, reduction='none')\n",
    "            loss =  (images_loss + texts_loss) / 2.0 # shape: (batch_size)\n",
    "            \n",
    "            return loss\n",
    "        \n",
    "        loss_text_image = contrastive_loss(text_embeddings, image_embeddings)\n",
    "        loss_meta_image = contrastive_loss(meta_embeddings, image_embeddings)\n",
    "        loss_text_meta = contrastive_loss(text_embeddings, meta_embeddings)\n",
    "    \n",
    "        loss = loss_text_image +loss_meta_image +loss_text_meta\n",
    "        return loss.mean()\n",
    "\n",
    "\n",
    "def cross_entropy(preds, targets, reduction='none'):\n",
    "    log_softmax = nn.LogSoftmax(dim=-1)\n",
    "    loss = (-targets * log_softmax(preds)).sum(1)\n",
    "    if reduction == \"none\":\n",
    "        return loss\n",
    "    elif reduction == \"mean\":\n",
    "        return loss.mean()"
   ]
  },
  {
   "cell_type": "code",
   "execution_count": 60,
   "metadata": {},
   "outputs": [],
   "source": [
    "class ClassifierHead(nn.Module):\n",
    "    def __init__(\n",
    "        self,\n",
    "        embedding_dim,\n",
    "        num_classes =555\n",
    "    ):\n",
    "        super().__init__()\n",
    "        self.fc1 = nn.Linear(embedding_dim, embedding_dim)\n",
    "        self.gelu = nn.GELU()\n",
    "        self.fc2 = nn.Linear(embedding_dim, num_classes)\n",
    "        self.dropout = nn.Dropout(0.5)\n",
    "        \n",
    "    \n",
    "    def forward(self, x):\n",
    "        x = self.fc1(x)\n",
    "        x = self.gelu(x)\n",
    "        x = self.dropout(x)\n",
    "        x = self.fc2(x)\n",
    "        return x\n",
    "    \n",
    "class ModelInfer(nn.Module):\n",
    "    def __init__(\n",
    "        self,\n",
    "        PRETRAINED_MODEL = None\n",
    "    ):\n",
    "        super().__init__()\n",
    "        self.image_encoder = PRETRAINED_MODEL.image_encoder\n",
    "        self.meta_encoder= PRETRAINED_MODEL.meta_encoder\n",
    "        self.image_projection = PRETRAINED_MODEL.image_projection\n",
    "        self.meta_projection = PRETRAINED_MODEL.meta_projection\n",
    "        self.classification_layer = ClassifierHead(512)\n",
    "        \n",
    "    def forward(self, batch):\n",
    "        # Getting Image and Text Features\n",
    "        image_features = self.image_encoder(batch[\"image\"])\n",
    "        meta_features = self.meta_encoder(batch['lat_lon_date_feats'])\n",
    "        # Getting Image and Text Embeddings (with same dimension)\n",
    "        image_embeddings = self.image_projection(image_features)\n",
    "        meta_embeddings = self.meta_projection(meta_features)\n",
    "        \n",
    "        out = torch.cat([image_embeddings,meta_embeddings], axis  = 1)\n",
    "        \n",
    "        predicted = self.classification_layer(out)\n",
    "    \n",
    "        loss = F.cross_entropy(predicted, batch['class_id'])\n",
    "        return loss.mean()\n",
    "\n",
    "\n"
   ]
  },
  {
   "cell_type": "code",
   "execution_count": 61,
   "metadata": {},
   "outputs": [
    {
     "name": "stderr",
     "output_type": "stream",
     "text": [
      "Some weights of the model checkpoint at distilbert-base-uncased were not used when initializing DistilBertModel: ['vocab_layer_norm.bias', 'vocab_projector.bias', 'vocab_projector.weight', 'vocab_layer_norm.weight', 'vocab_transform.bias', 'vocab_transform.weight']\n",
      "- This IS expected if you are initializing DistilBertModel from the checkpoint of a model trained on another task or with another architecture (e.g. initializing a BertForSequenceClassification model from a BertForPreTraining model).\n",
      "- This IS NOT expected if you are initializing DistilBertModel from the checkpoint of a model that you expect to be exactly identical (initializing a BertForSequenceClassification model from a BertForSequenceClassification model).\n"
     ]
    },
    {
     "data": {
      "text/plain": [
       "<All keys matched successfully>"
      ]
     },
     "execution_count": 61,
     "metadata": {},
     "output_type": "execute_result"
    }
   ],
   "source": [
    "model = CLIPModel()\n",
    "model.load_state_dict(torch.load(\"best.pt\"))"
   ]
  },
  {
   "cell_type": "code",
   "execution_count": 62,
   "metadata": {},
   "outputs": [],
   "source": [
    "infer = ModelInfer(model)"
   ]
  },
  {
   "cell_type": "code",
   "execution_count": 63,
   "metadata": {},
   "outputs": [
    {
     "name": "stdout",
     "output_type": "stream",
     "text": [
      "565\n"
     ]
    }
   ],
   "source": [
    "it = iter(train_loader)\n",
    "first = next(it)\n",
    "print(len(train_loader))"
   ]
  },
  {
   "cell_type": "code",
   "execution_count": 64,
   "metadata": {
    "scrolled": true
   },
   "outputs": [
    {
     "data": {
      "text/plain": [
       "tensor(6.3162, grad_fn=<MeanBackward0>)"
      ]
     },
     "execution_count": 64,
     "metadata": {},
     "output_type": "execute_result"
    }
   ],
   "source": [
    "infer(first)"
   ]
  },
  {
   "cell_type": "code",
   "execution_count": 57,
   "metadata": {},
   "outputs": [
    {
     "data": {
      "text/plain": [
       "ModelInfer(\n",
       "  (image_encoder): ImageEncoder(\n",
       "    (model): ResNet(\n",
       "      (conv1): Conv2d(3, 64, kernel_size=(7, 7), stride=(2, 2), padding=(3, 3), bias=False)\n",
       "      (bn1): BatchNorm2d(64, eps=1e-05, momentum=0.1, affine=True, track_running_stats=True)\n",
       "      (act1): ReLU(inplace=True)\n",
       "      (maxpool): MaxPool2d(kernel_size=3, stride=2, padding=1, dilation=1, ceil_mode=False)\n",
       "      (layer1): Sequential(\n",
       "        (0): Bottleneck(\n",
       "          (conv1): Conv2d(64, 64, kernel_size=(1, 1), stride=(1, 1), bias=False)\n",
       "          (bn1): BatchNorm2d(64, eps=1e-05, momentum=0.1, affine=True, track_running_stats=True)\n",
       "          (act1): ReLU(inplace=True)\n",
       "          (conv2): Conv2d(64, 64, kernel_size=(3, 3), stride=(1, 1), padding=(1, 1), bias=False)\n",
       "          (bn2): BatchNorm2d(64, eps=1e-05, momentum=0.1, affine=True, track_running_stats=True)\n",
       "          (act2): ReLU(inplace=True)\n",
       "          (conv3): Conv2d(64, 256, kernel_size=(1, 1), stride=(1, 1), bias=False)\n",
       "          (bn3): BatchNorm2d(256, eps=1e-05, momentum=0.1, affine=True, track_running_stats=True)\n",
       "          (act3): ReLU(inplace=True)\n",
       "          (downsample): Sequential(\n",
       "            (0): Conv2d(64, 256, kernel_size=(1, 1), stride=(1, 1), bias=False)\n",
       "            (1): BatchNorm2d(256, eps=1e-05, momentum=0.1, affine=True, track_running_stats=True)\n",
       "          )\n",
       "        )\n",
       "        (1): Bottleneck(\n",
       "          (conv1): Conv2d(256, 64, kernel_size=(1, 1), stride=(1, 1), bias=False)\n",
       "          (bn1): BatchNorm2d(64, eps=1e-05, momentum=0.1, affine=True, track_running_stats=True)\n",
       "          (act1): ReLU(inplace=True)\n",
       "          (conv2): Conv2d(64, 64, kernel_size=(3, 3), stride=(1, 1), padding=(1, 1), bias=False)\n",
       "          (bn2): BatchNorm2d(64, eps=1e-05, momentum=0.1, affine=True, track_running_stats=True)\n",
       "          (act2): ReLU(inplace=True)\n",
       "          (conv3): Conv2d(64, 256, kernel_size=(1, 1), stride=(1, 1), bias=False)\n",
       "          (bn3): BatchNorm2d(256, eps=1e-05, momentum=0.1, affine=True, track_running_stats=True)\n",
       "          (act3): ReLU(inplace=True)\n",
       "        )\n",
       "        (2): Bottleneck(\n",
       "          (conv1): Conv2d(256, 64, kernel_size=(1, 1), stride=(1, 1), bias=False)\n",
       "          (bn1): BatchNorm2d(64, eps=1e-05, momentum=0.1, affine=True, track_running_stats=True)\n",
       "          (act1): ReLU(inplace=True)\n",
       "          (conv2): Conv2d(64, 64, kernel_size=(3, 3), stride=(1, 1), padding=(1, 1), bias=False)\n",
       "          (bn2): BatchNorm2d(64, eps=1e-05, momentum=0.1, affine=True, track_running_stats=True)\n",
       "          (act2): ReLU(inplace=True)\n",
       "          (conv3): Conv2d(64, 256, kernel_size=(1, 1), stride=(1, 1), bias=False)\n",
       "          (bn3): BatchNorm2d(256, eps=1e-05, momentum=0.1, affine=True, track_running_stats=True)\n",
       "          (act3): ReLU(inplace=True)\n",
       "        )\n",
       "      )\n",
       "      (layer2): Sequential(\n",
       "        (0): Bottleneck(\n",
       "          (conv1): Conv2d(256, 128, kernel_size=(1, 1), stride=(1, 1), bias=False)\n",
       "          (bn1): BatchNorm2d(128, eps=1e-05, momentum=0.1, affine=True, track_running_stats=True)\n",
       "          (act1): ReLU(inplace=True)\n",
       "          (conv2): Conv2d(128, 128, kernel_size=(3, 3), stride=(2, 2), padding=(1, 1), bias=False)\n",
       "          (bn2): BatchNorm2d(128, eps=1e-05, momentum=0.1, affine=True, track_running_stats=True)\n",
       "          (act2): ReLU(inplace=True)\n",
       "          (conv3): Conv2d(128, 512, kernel_size=(1, 1), stride=(1, 1), bias=False)\n",
       "          (bn3): BatchNorm2d(512, eps=1e-05, momentum=0.1, affine=True, track_running_stats=True)\n",
       "          (act3): ReLU(inplace=True)\n",
       "          (downsample): Sequential(\n",
       "            (0): Conv2d(256, 512, kernel_size=(1, 1), stride=(2, 2), bias=False)\n",
       "            (1): BatchNorm2d(512, eps=1e-05, momentum=0.1, affine=True, track_running_stats=True)\n",
       "          )\n",
       "        )\n",
       "        (1): Bottleneck(\n",
       "          (conv1): Conv2d(512, 128, kernel_size=(1, 1), stride=(1, 1), bias=False)\n",
       "          (bn1): BatchNorm2d(128, eps=1e-05, momentum=0.1, affine=True, track_running_stats=True)\n",
       "          (act1): ReLU(inplace=True)\n",
       "          (conv2): Conv2d(128, 128, kernel_size=(3, 3), stride=(1, 1), padding=(1, 1), bias=False)\n",
       "          (bn2): BatchNorm2d(128, eps=1e-05, momentum=0.1, affine=True, track_running_stats=True)\n",
       "          (act2): ReLU(inplace=True)\n",
       "          (conv3): Conv2d(128, 512, kernel_size=(1, 1), stride=(1, 1), bias=False)\n",
       "          (bn3): BatchNorm2d(512, eps=1e-05, momentum=0.1, affine=True, track_running_stats=True)\n",
       "          (act3): ReLU(inplace=True)\n",
       "        )\n",
       "        (2): Bottleneck(\n",
       "          (conv1): Conv2d(512, 128, kernel_size=(1, 1), stride=(1, 1), bias=False)\n",
       "          (bn1): BatchNorm2d(128, eps=1e-05, momentum=0.1, affine=True, track_running_stats=True)\n",
       "          (act1): ReLU(inplace=True)\n",
       "          (conv2): Conv2d(128, 128, kernel_size=(3, 3), stride=(1, 1), padding=(1, 1), bias=False)\n",
       "          (bn2): BatchNorm2d(128, eps=1e-05, momentum=0.1, affine=True, track_running_stats=True)\n",
       "          (act2): ReLU(inplace=True)\n",
       "          (conv3): Conv2d(128, 512, kernel_size=(1, 1), stride=(1, 1), bias=False)\n",
       "          (bn3): BatchNorm2d(512, eps=1e-05, momentum=0.1, affine=True, track_running_stats=True)\n",
       "          (act3): ReLU(inplace=True)\n",
       "        )\n",
       "        (3): Bottleneck(\n",
       "          (conv1): Conv2d(512, 128, kernel_size=(1, 1), stride=(1, 1), bias=False)\n",
       "          (bn1): BatchNorm2d(128, eps=1e-05, momentum=0.1, affine=True, track_running_stats=True)\n",
       "          (act1): ReLU(inplace=True)\n",
       "          (conv2): Conv2d(128, 128, kernel_size=(3, 3), stride=(1, 1), padding=(1, 1), bias=False)\n",
       "          (bn2): BatchNorm2d(128, eps=1e-05, momentum=0.1, affine=True, track_running_stats=True)\n",
       "          (act2): ReLU(inplace=True)\n",
       "          (conv3): Conv2d(128, 512, kernel_size=(1, 1), stride=(1, 1), bias=False)\n",
       "          (bn3): BatchNorm2d(512, eps=1e-05, momentum=0.1, affine=True, track_running_stats=True)\n",
       "          (act3): ReLU(inplace=True)\n",
       "        )\n",
       "      )\n",
       "      (layer3): Sequential(\n",
       "        (0): Bottleneck(\n",
       "          (conv1): Conv2d(512, 256, kernel_size=(1, 1), stride=(1, 1), bias=False)\n",
       "          (bn1): BatchNorm2d(256, eps=1e-05, momentum=0.1, affine=True, track_running_stats=True)\n",
       "          (act1): ReLU(inplace=True)\n",
       "          (conv2): Conv2d(256, 256, kernel_size=(3, 3), stride=(2, 2), padding=(1, 1), bias=False)\n",
       "          (bn2): BatchNorm2d(256, eps=1e-05, momentum=0.1, affine=True, track_running_stats=True)\n",
       "          (act2): ReLU(inplace=True)\n",
       "          (conv3): Conv2d(256, 1024, kernel_size=(1, 1), stride=(1, 1), bias=False)\n",
       "          (bn3): BatchNorm2d(1024, eps=1e-05, momentum=0.1, affine=True, track_running_stats=True)\n",
       "          (act3): ReLU(inplace=True)\n",
       "          (downsample): Sequential(\n",
       "            (0): Conv2d(512, 1024, kernel_size=(1, 1), stride=(2, 2), bias=False)\n",
       "            (1): BatchNorm2d(1024, eps=1e-05, momentum=0.1, affine=True, track_running_stats=True)\n",
       "          )\n",
       "        )\n",
       "        (1): Bottleneck(\n",
       "          (conv1): Conv2d(1024, 256, kernel_size=(1, 1), stride=(1, 1), bias=False)\n",
       "          (bn1): BatchNorm2d(256, eps=1e-05, momentum=0.1, affine=True, track_running_stats=True)\n",
       "          (act1): ReLU(inplace=True)\n",
       "          (conv2): Conv2d(256, 256, kernel_size=(3, 3), stride=(1, 1), padding=(1, 1), bias=False)\n",
       "          (bn2): BatchNorm2d(256, eps=1e-05, momentum=0.1, affine=True, track_running_stats=True)\n",
       "          (act2): ReLU(inplace=True)\n",
       "          (conv3): Conv2d(256, 1024, kernel_size=(1, 1), stride=(1, 1), bias=False)\n",
       "          (bn3): BatchNorm2d(1024, eps=1e-05, momentum=0.1, affine=True, track_running_stats=True)\n",
       "          (act3): ReLU(inplace=True)\n",
       "        )\n",
       "        (2): Bottleneck(\n",
       "          (conv1): Conv2d(1024, 256, kernel_size=(1, 1), stride=(1, 1), bias=False)\n",
       "          (bn1): BatchNorm2d(256, eps=1e-05, momentum=0.1, affine=True, track_running_stats=True)\n",
       "          (act1): ReLU(inplace=True)\n",
       "          (conv2): Conv2d(256, 256, kernel_size=(3, 3), stride=(1, 1), padding=(1, 1), bias=False)\n",
       "          (bn2): BatchNorm2d(256, eps=1e-05, momentum=0.1, affine=True, track_running_stats=True)\n",
       "          (act2): ReLU(inplace=True)\n",
       "          (conv3): Conv2d(256, 1024, kernel_size=(1, 1), stride=(1, 1), bias=False)\n",
       "          (bn3): BatchNorm2d(1024, eps=1e-05, momentum=0.1, affine=True, track_running_stats=True)\n",
       "          (act3): ReLU(inplace=True)\n",
       "        )\n",
       "        (3): Bottleneck(\n",
       "          (conv1): Conv2d(1024, 256, kernel_size=(1, 1), stride=(1, 1), bias=False)\n",
       "          (bn1): BatchNorm2d(256, eps=1e-05, momentum=0.1, affine=True, track_running_stats=True)\n",
       "          (act1): ReLU(inplace=True)\n",
       "          (conv2): Conv2d(256, 256, kernel_size=(3, 3), stride=(1, 1), padding=(1, 1), bias=False)\n",
       "          (bn2): BatchNorm2d(256, eps=1e-05, momentum=0.1, affine=True, track_running_stats=True)\n",
       "          (act2): ReLU(inplace=True)\n",
       "          (conv3): Conv2d(256, 1024, kernel_size=(1, 1), stride=(1, 1), bias=False)\n",
       "          (bn3): BatchNorm2d(1024, eps=1e-05, momentum=0.1, affine=True, track_running_stats=True)\n",
       "          (act3): ReLU(inplace=True)\n",
       "        )\n",
       "        (4): Bottleneck(\n",
       "          (conv1): Conv2d(1024, 256, kernel_size=(1, 1), stride=(1, 1), bias=False)\n",
       "          (bn1): BatchNorm2d(256, eps=1e-05, momentum=0.1, affine=True, track_running_stats=True)\n",
       "          (act1): ReLU(inplace=True)\n",
       "          (conv2): Conv2d(256, 256, kernel_size=(3, 3), stride=(1, 1), padding=(1, 1), bias=False)\n",
       "          (bn2): BatchNorm2d(256, eps=1e-05, momentum=0.1, affine=True, track_running_stats=True)\n",
       "          (act2): ReLU(inplace=True)\n",
       "          (conv3): Conv2d(256, 1024, kernel_size=(1, 1), stride=(1, 1), bias=False)\n",
       "          (bn3): BatchNorm2d(1024, eps=1e-05, momentum=0.1, affine=True, track_running_stats=True)\n",
       "          (act3): ReLU(inplace=True)\n",
       "        )\n",
       "        (5): Bottleneck(\n",
       "          (conv1): Conv2d(1024, 256, kernel_size=(1, 1), stride=(1, 1), bias=False)\n",
       "          (bn1): BatchNorm2d(256, eps=1e-05, momentum=0.1, affine=True, track_running_stats=True)\n",
       "          (act1): ReLU(inplace=True)\n",
       "          (conv2): Conv2d(256, 256, kernel_size=(3, 3), stride=(1, 1), padding=(1, 1), bias=False)\n",
       "          (bn2): BatchNorm2d(256, eps=1e-05, momentum=0.1, affine=True, track_running_stats=True)\n",
       "          (act2): ReLU(inplace=True)\n",
       "          (conv3): Conv2d(256, 1024, kernel_size=(1, 1), stride=(1, 1), bias=False)\n",
       "          (bn3): BatchNorm2d(1024, eps=1e-05, momentum=0.1, affine=True, track_running_stats=True)\n",
       "          (act3): ReLU(inplace=True)\n",
       "        )\n",
       "      )\n",
       "      (layer4): Sequential(\n",
       "        (0): Bottleneck(\n",
       "          (conv1): Conv2d(1024, 512, kernel_size=(1, 1), stride=(1, 1), bias=False)\n",
       "          (bn1): BatchNorm2d(512, eps=1e-05, momentum=0.1, affine=True, track_running_stats=True)\n",
       "          (act1): ReLU(inplace=True)\n",
       "          (conv2): Conv2d(512, 512, kernel_size=(3, 3), stride=(2, 2), padding=(1, 1), bias=False)\n",
       "          (bn2): BatchNorm2d(512, eps=1e-05, momentum=0.1, affine=True, track_running_stats=True)\n",
       "          (act2): ReLU(inplace=True)\n",
       "          (conv3): Conv2d(512, 2048, kernel_size=(1, 1), stride=(1, 1), bias=False)\n",
       "          (bn3): BatchNorm2d(2048, eps=1e-05, momentum=0.1, affine=True, track_running_stats=True)\n",
       "          (act3): ReLU(inplace=True)\n",
       "          (downsample): Sequential(\n",
       "            (0): Conv2d(1024, 2048, kernel_size=(1, 1), stride=(2, 2), bias=False)\n",
       "            (1): BatchNorm2d(2048, eps=1e-05, momentum=0.1, affine=True, track_running_stats=True)\n",
       "          )\n",
       "        )\n",
       "        (1): Bottleneck(\n",
       "          (conv1): Conv2d(2048, 512, kernel_size=(1, 1), stride=(1, 1), bias=False)\n",
       "          (bn1): BatchNorm2d(512, eps=1e-05, momentum=0.1, affine=True, track_running_stats=True)\n",
       "          (act1): ReLU(inplace=True)\n",
       "          (conv2): Conv2d(512, 512, kernel_size=(3, 3), stride=(1, 1), padding=(1, 1), bias=False)\n",
       "          (bn2): BatchNorm2d(512, eps=1e-05, momentum=0.1, affine=True, track_running_stats=True)\n",
       "          (act2): ReLU(inplace=True)\n",
       "          (conv3): Conv2d(512, 2048, kernel_size=(1, 1), stride=(1, 1), bias=False)\n",
       "          (bn3): BatchNorm2d(2048, eps=1e-05, momentum=0.1, affine=True, track_running_stats=True)\n",
       "          (act3): ReLU(inplace=True)\n",
       "        )\n",
       "        (2): Bottleneck(\n",
       "          (conv1): Conv2d(2048, 512, kernel_size=(1, 1), stride=(1, 1), bias=False)\n",
       "          (bn1): BatchNorm2d(512, eps=1e-05, momentum=0.1, affine=True, track_running_stats=True)\n",
       "          (act1): ReLU(inplace=True)\n",
       "          (conv2): Conv2d(512, 512, kernel_size=(3, 3), stride=(1, 1), padding=(1, 1), bias=False)\n",
       "          (bn2): BatchNorm2d(512, eps=1e-05, momentum=0.1, affine=True, track_running_stats=True)\n",
       "          (act2): ReLU(inplace=True)\n",
       "          (conv3): Conv2d(512, 2048, kernel_size=(1, 1), stride=(1, 1), bias=False)\n",
       "          (bn3): BatchNorm2d(2048, eps=1e-05, momentum=0.1, affine=True, track_running_stats=True)\n",
       "          (act3): ReLU(inplace=True)\n",
       "        )\n",
       "      )\n",
       "      (global_pool): SelectAdaptivePool2d (pool_type=avg, flatten=Flatten(start_dim=1, end_dim=-1))\n",
       "      (fc): Identity()\n",
       "    )\n",
       "  )\n",
       "  (meta_encoder): MetaEncoder(\n",
       "    (class_emb): Linear(in_features=256, out_features=555, bias=False)\n",
       "    (feats): Sequential(\n",
       "      (0): Linear(in_features=6, out_features=256, bias=True)\n",
       "      (1): ReLU(inplace=True)\n",
       "      (2): ResLayer(\n",
       "        (nonlin1): ReLU(inplace=True)\n",
       "        (nonlin2): ReLU(inplace=True)\n",
       "        (dropout1): Dropout(p=0.5, inplace=False)\n",
       "        (w1): Linear(in_features=256, out_features=256, bias=True)\n",
       "        (w2): Linear(in_features=256, out_features=256, bias=True)\n",
       "      )\n",
       "      (3): ResLayer(\n",
       "        (nonlin1): ReLU(inplace=True)\n",
       "        (nonlin2): ReLU(inplace=True)\n",
       "        (dropout1): Dropout(p=0.5, inplace=False)\n",
       "        (w1): Linear(in_features=256, out_features=256, bias=True)\n",
       "        (w2): Linear(in_features=256, out_features=256, bias=True)\n",
       "      )\n",
       "      (4): ResLayer(\n",
       "        (nonlin1): ReLU(inplace=True)\n",
       "        (nonlin2): ReLU(inplace=True)\n",
       "        (dropout1): Dropout(p=0.5, inplace=False)\n",
       "        (w1): Linear(in_features=256, out_features=256, bias=True)\n",
       "        (w2): Linear(in_features=256, out_features=256, bias=True)\n",
       "      )\n",
       "      (5): ResLayer(\n",
       "        (nonlin1): ReLU(inplace=True)\n",
       "        (nonlin2): ReLU(inplace=True)\n",
       "        (dropout1): Dropout(p=0.5, inplace=False)\n",
       "        (w1): Linear(in_features=256, out_features=256, bias=True)\n",
       "        (w2): Linear(in_features=256, out_features=256, bias=True)\n",
       "      )\n",
       "    )\n",
       "  )\n",
       "  (image_projection): ProjectionHead(\n",
       "    (projection): Linear(in_features=2048, out_features=256, bias=True)\n",
       "    (gelu): GELU()\n",
       "    (fc): Linear(in_features=256, out_features=256, bias=True)\n",
       "    (dropout): Dropout(p=0.1, inplace=False)\n",
       "    (layer_norm): LayerNorm((256,), eps=1e-05, elementwise_affine=True)\n",
       "  )\n",
       "  (meta_projection): ProjectionHead(\n",
       "    (projection): Linear(in_features=256, out_features=256, bias=True)\n",
       "    (gelu): GELU()\n",
       "    (fc): Linear(in_features=256, out_features=256, bias=True)\n",
       "    (dropout): Dropout(p=0.1, inplace=False)\n",
       "    (layer_norm): LayerNorm((256,), eps=1e-05, elementwise_affine=True)\n",
       "  )\n",
       "  (classification_layer): ClassifierHead(\n",
       "    (fc1): Linear(in_features=512, out_features=512, bias=True)\n",
       "    (gelu): GELU()\n",
       "    (fc2): Linear(in_features=512, out_features=555, bias=True)\n",
       "    (dropout): Dropout(p=0.5, inplace=False)\n",
       "  )\n",
       ")"
      ]
     },
     "execution_count": 57,
     "metadata": {},
     "output_type": "execute_result"
    }
   ],
   "source": [
    "infer"
   ]
  },
  {
   "cell_type": "code",
   "execution_count": 78,
   "metadata": {
    "scrolled": true
   },
   "outputs": [
    {
     "name": "stderr",
     "output_type": "stream",
     "text": [
      "Some weights of the model checkpoint at distilbert-base-uncased were not used when initializing DistilBertModel: ['vocab_layer_norm.bias', 'vocab_projector.bias', 'vocab_projector.weight', 'vocab_layer_norm.weight', 'vocab_transform.bias', 'vocab_transform.weight']\n",
      "- This IS expected if you are initializing DistilBertModel from the checkpoint of a model trained on another task or with another architecture (e.g. initializing a BertForSequenceClassification model from a BertForPreTraining model).\n",
      "- This IS NOT expected if you are initializing DistilBertModel from the checkpoint of a model that you expect to be exactly identical (initializing a BertForSequenceClassification model from a BertForSequenceClassification model).\n"
     ]
    },
    {
     "name": "stdout",
     "output_type": "stream",
     "text": [
      "Epoch: 1\n"
     ]
    },
    {
     "data": {
      "application/vnd.jupyter.widget-view+json": {
       "model_id": "d190377f3a60425db28a1bf4e770fbb4",
       "version_major": 2,
       "version_minor": 0
      },
      "text/plain": [
       "  0%|          | 0/565 [00:00<?, ?it/s]"
      ]
     },
     "metadata": {},
     "output_type": "display_data"
    },
    {
     "data": {
      "application/vnd.jupyter.widget-view+json": {
       "model_id": "90a529ad1655460385db33d11488e75c",
       "version_major": 2,
       "version_minor": 0
      },
      "text/plain": [
       "  0%|          | 0/142 [00:00<?, ?it/s]"
      ]
     },
     "metadata": {},
     "output_type": "display_data"
    },
    {
     "name": "stdout",
     "output_type": "stream",
     "text": [
      "Saved Best Model!\n",
      "Epoch: 2\n"
     ]
    },
    {
     "data": {
      "application/vnd.jupyter.widget-view+json": {
       "model_id": "491088a588654ff0838dba5d6edf77d6",
       "version_major": 2,
       "version_minor": 0
      },
      "text/plain": [
       "  0%|          | 0/565 [00:00<?, ?it/s]"
      ]
     },
     "metadata": {},
     "output_type": "display_data"
    },
    {
     "data": {
      "application/vnd.jupyter.widget-view+json": {
       "model_id": "4633583ee41545b9b5490c61edd1af8b",
       "version_major": 2,
       "version_minor": 0
      },
      "text/plain": [
       "  0%|          | 0/142 [00:00<?, ?it/s]"
      ]
     },
     "metadata": {},
     "output_type": "display_data"
    },
    {
     "name": "stdout",
     "output_type": "stream",
     "text": [
      "Saved Best Model!\n",
      "Epoch: 3\n"
     ]
    },
    {
     "data": {
      "application/vnd.jupyter.widget-view+json": {
       "model_id": "e0f4158b0b7b42b4be23fb45b01b3c27",
       "version_major": 2,
       "version_minor": 0
      },
      "text/plain": [
       "  0%|          | 0/565 [00:00<?, ?it/s]"
      ]
     },
     "metadata": {},
     "output_type": "display_data"
    },
    {
     "data": {
      "application/vnd.jupyter.widget-view+json": {
       "model_id": "b960b3980761418aa785d624c65ddb80",
       "version_major": 2,
       "version_minor": 0
      },
      "text/plain": [
       "  0%|          | 0/142 [00:00<?, ?it/s]"
      ]
     },
     "metadata": {},
     "output_type": "display_data"
    },
    {
     "name": "stdout",
     "output_type": "stream",
     "text": [
      "Saved Best Model!\n"
     ]
    }
   ],
   "source": [
    "CLIP = CLIPModel().to(CFG.device)\n",
    "CLIP.load_state_dict(torch.load(\"best.pt\"))\n",
    "model = ModelInfer(CLIP).to(CFG.device)\n",
    "params = [\n",
    "    {\"params\": model.image_encoder.parameters(), \"lr\": CFG.image_encoder_lr},\n",
    "    {\"params\": model.meta_encoder.parameters(), \"lr\": CFG.meta_encoder_lr},\n",
    "    {\"params\": itertools.chain(\n",
    "        model.image_projection.parameters(), model.classification_layer.parameters() , model.meta_projection.parameters()\n",
    "    ), \"lr\": CFG.head_lr, \"weight_decay\": CFG.weight_decay}\n",
    "]\n",
    "optimizer = torch.optim.AdamW(params, weight_decay=0.)\n",
    "lr_scheduler = torch.optim.lr_scheduler.ReduceLROnPlateau(\n",
    "    optimizer, mode=\"min\", patience=CFG.patience, factor=CFG.factor\n",
    ")\n",
    "step = \"epoch\"\n",
    "\n",
    "best_loss = float('inf')\n",
    "train_loss_list=[]\n",
    "val_loss_list=[]\n",
    "for epoch in range(CFG.epochs):\n",
    "    print(f\"Epoch: {epoch + 1}\")\n",
    "    model.train()\n",
    "    train_loss = train_epoch(model, train_loader, optimizer, lr_scheduler, step)\n",
    "    train_loss_list.append(train_loss.avg)\n",
    "    model.eval()\n",
    "    with torch.no_grad():\n",
    "        valid_loss = valid_epoch(model, valid_loader)\n",
    "        val_loss_list.append(valid_loss.avg)\n",
    "    if valid_loss.avg < best_loss:\n",
    "        best_loss = valid_loss.avg\n",
    "        torch.save(model.state_dict(), \"best_inference.pt\")\n",
    "        print(\"Saved Best Model!\")\n",
    "\n",
    "    lr_scheduler.step(valid_loss.avg)"
   ]
  },
  {
   "cell_type": "code",
   "execution_count": null,
   "metadata": {},
   "outputs": [],
   "source": []
  }
 ],
 "metadata": {
  "kernelspec": {
   "display_name": "Python 3",
   "language": "python",
   "name": "python3"
  },
  "language_info": {
   "codemirror_mode": {
    "name": "ipython",
    "version": 3
   },
   "file_extension": ".py",
   "mimetype": "text/x-python",
   "name": "python",
   "nbconvert_exporter": "python",
   "pygments_lexer": "ipython3",
   "version": "3.8.6"
  }
 },
 "nbformat": 4,
 "nbformat_minor": 4
}
